{
 "cells": [
  {
   "cell_type": "markdown",
   "metadata": {},
   "source": [
    "# Mall Customer Clustering\n",
    "Pada modul kali ini, akan dilakukan *clustering* pelanggan berdasarkan jenis kelamin, umur, pendapatan per tahun, dan skor pengeluaran yang telah dikuantifikasi. Metode yang akan digunakan adalah **K-Means Clustering**."
   ]
  },
  {
   "cell_type": "code",
   "execution_count": 37,
   "metadata": {},
   "outputs": [],
   "source": [
    "import pandas as pd\n",
    "import matplotlib.pyplot as plt\n",
    "import seaborn as sns"
   ]
  },
  {
   "cell_type": "code",
   "execution_count": 38,
   "metadata": {},
   "outputs": [
    {
     "data": {
      "text/html": [
       "<div>\n",
       "<style scoped>\n",
       "    .dataframe tbody tr th:only-of-type {\n",
       "        vertical-align: middle;\n",
       "    }\n",
       "\n",
       "    .dataframe tbody tr th {\n",
       "        vertical-align: top;\n",
       "    }\n",
       "\n",
       "    .dataframe thead th {\n",
       "        text-align: right;\n",
       "    }\n",
       "</style>\n",
       "<table border=\"1\" class=\"dataframe\">\n",
       "  <thead>\n",
       "    <tr style=\"text-align: right;\">\n",
       "      <th></th>\n",
       "      <th>CustomerID</th>\n",
       "      <th>Gender</th>\n",
       "      <th>Age</th>\n",
       "      <th>Annual Income (k$)</th>\n",
       "      <th>Spending Score (1-100)</th>\n",
       "    </tr>\n",
       "  </thead>\n",
       "  <tbody>\n",
       "    <tr>\n",
       "      <td>0</td>\n",
       "      <td>1</td>\n",
       "      <td>Male</td>\n",
       "      <td>19</td>\n",
       "      <td>15</td>\n",
       "      <td>39</td>\n",
       "    </tr>\n",
       "    <tr>\n",
       "      <td>1</td>\n",
       "      <td>2</td>\n",
       "      <td>Male</td>\n",
       "      <td>21</td>\n",
       "      <td>15</td>\n",
       "      <td>81</td>\n",
       "    </tr>\n",
       "    <tr>\n",
       "      <td>2</td>\n",
       "      <td>3</td>\n",
       "      <td>Female</td>\n",
       "      <td>20</td>\n",
       "      <td>16</td>\n",
       "      <td>6</td>\n",
       "    </tr>\n",
       "    <tr>\n",
       "      <td>3</td>\n",
       "      <td>4</td>\n",
       "      <td>Female</td>\n",
       "      <td>23</td>\n",
       "      <td>16</td>\n",
       "      <td>77</td>\n",
       "    </tr>\n",
       "    <tr>\n",
       "      <td>4</td>\n",
       "      <td>5</td>\n",
       "      <td>Female</td>\n",
       "      <td>31</td>\n",
       "      <td>17</td>\n",
       "      <td>40</td>\n",
       "    </tr>\n",
       "    <tr>\n",
       "      <td>...</td>\n",
       "      <td>...</td>\n",
       "      <td>...</td>\n",
       "      <td>...</td>\n",
       "      <td>...</td>\n",
       "      <td>...</td>\n",
       "    </tr>\n",
       "    <tr>\n",
       "      <td>195</td>\n",
       "      <td>196</td>\n",
       "      <td>Female</td>\n",
       "      <td>35</td>\n",
       "      <td>120</td>\n",
       "      <td>79</td>\n",
       "    </tr>\n",
       "    <tr>\n",
       "      <td>196</td>\n",
       "      <td>197</td>\n",
       "      <td>Female</td>\n",
       "      <td>45</td>\n",
       "      <td>126</td>\n",
       "      <td>28</td>\n",
       "    </tr>\n",
       "    <tr>\n",
       "      <td>197</td>\n",
       "      <td>198</td>\n",
       "      <td>Male</td>\n",
       "      <td>32</td>\n",
       "      <td>126</td>\n",
       "      <td>74</td>\n",
       "    </tr>\n",
       "    <tr>\n",
       "      <td>198</td>\n",
       "      <td>199</td>\n",
       "      <td>Male</td>\n",
       "      <td>32</td>\n",
       "      <td>137</td>\n",
       "      <td>18</td>\n",
       "    </tr>\n",
       "    <tr>\n",
       "      <td>199</td>\n",
       "      <td>200</td>\n",
       "      <td>Male</td>\n",
       "      <td>30</td>\n",
       "      <td>137</td>\n",
       "      <td>83</td>\n",
       "    </tr>\n",
       "  </tbody>\n",
       "</table>\n",
       "<p>200 rows × 5 columns</p>\n",
       "</div>"
      ],
      "text/plain": [
       "     CustomerID  Gender  Age  Annual Income (k$)  Spending Score (1-100)\n",
       "0             1    Male   19                  15                      39\n",
       "1             2    Male   21                  15                      81\n",
       "2             3  Female   20                  16                       6\n",
       "3             4  Female   23                  16                      77\n",
       "4             5  Female   31                  17                      40\n",
       "..          ...     ...  ...                 ...                     ...\n",
       "195         196  Female   35                 120                      79\n",
       "196         197  Female   45                 126                      28\n",
       "197         198    Male   32                 126                      74\n",
       "198         199    Male   32                 137                      18\n",
       "199         200    Male   30                 137                      83\n",
       "\n",
       "[200 rows x 5 columns]"
      ]
     },
     "execution_count": 38,
     "metadata": {},
     "output_type": "execute_result"
    }
   ],
   "source": [
    "df = pd.read_csv('Mall_Customers.csv')\n",
    "df"
   ]
  },
  {
   "cell_type": "markdown",
   "metadata": {},
   "source": [
    "Setelah semua data bersifat numerik, kita drop *CustomerID* karena diasumsikan tidak terlalu relevan dengan *clustering* yang akan kita lakukan."
   ]
  },
  {
   "cell_type": "code",
   "execution_count": 39,
   "metadata": {},
   "outputs": [
    {
     "data": {
      "text/html": [
       "<div>\n",
       "<style scoped>\n",
       "    .dataframe tbody tr th:only-of-type {\n",
       "        vertical-align: middle;\n",
       "    }\n",
       "\n",
       "    .dataframe tbody tr th {\n",
       "        vertical-align: top;\n",
       "    }\n",
       "\n",
       "    .dataframe thead th {\n",
       "        text-align: right;\n",
       "    }\n",
       "</style>\n",
       "<table border=\"1\" class=\"dataframe\">\n",
       "  <thead>\n",
       "    <tr style=\"text-align: right;\">\n",
       "      <th></th>\n",
       "      <th>Gender</th>\n",
       "      <th>Age</th>\n",
       "      <th>Annual Income (k$)</th>\n",
       "      <th>Spending Score (1-100)</th>\n",
       "    </tr>\n",
       "  </thead>\n",
       "  <tbody>\n",
       "    <tr>\n",
       "      <td>0</td>\n",
       "      <td>Male</td>\n",
       "      <td>19</td>\n",
       "      <td>15</td>\n",
       "      <td>39</td>\n",
       "    </tr>\n",
       "    <tr>\n",
       "      <td>1</td>\n",
       "      <td>Male</td>\n",
       "      <td>21</td>\n",
       "      <td>15</td>\n",
       "      <td>81</td>\n",
       "    </tr>\n",
       "    <tr>\n",
       "      <td>2</td>\n",
       "      <td>Female</td>\n",
       "      <td>20</td>\n",
       "      <td>16</td>\n",
       "      <td>6</td>\n",
       "    </tr>\n",
       "    <tr>\n",
       "      <td>3</td>\n",
       "      <td>Female</td>\n",
       "      <td>23</td>\n",
       "      <td>16</td>\n",
       "      <td>77</td>\n",
       "    </tr>\n",
       "    <tr>\n",
       "      <td>4</td>\n",
       "      <td>Female</td>\n",
       "      <td>31</td>\n",
       "      <td>17</td>\n",
       "      <td>40</td>\n",
       "    </tr>\n",
       "    <tr>\n",
       "      <td>...</td>\n",
       "      <td>...</td>\n",
       "      <td>...</td>\n",
       "      <td>...</td>\n",
       "      <td>...</td>\n",
       "    </tr>\n",
       "    <tr>\n",
       "      <td>195</td>\n",
       "      <td>Female</td>\n",
       "      <td>35</td>\n",
       "      <td>120</td>\n",
       "      <td>79</td>\n",
       "    </tr>\n",
       "    <tr>\n",
       "      <td>196</td>\n",
       "      <td>Female</td>\n",
       "      <td>45</td>\n",
       "      <td>126</td>\n",
       "      <td>28</td>\n",
       "    </tr>\n",
       "    <tr>\n",
       "      <td>197</td>\n",
       "      <td>Male</td>\n",
       "      <td>32</td>\n",
       "      <td>126</td>\n",
       "      <td>74</td>\n",
       "    </tr>\n",
       "    <tr>\n",
       "      <td>198</td>\n",
       "      <td>Male</td>\n",
       "      <td>32</td>\n",
       "      <td>137</td>\n",
       "      <td>18</td>\n",
       "    </tr>\n",
       "    <tr>\n",
       "      <td>199</td>\n",
       "      <td>Male</td>\n",
       "      <td>30</td>\n",
       "      <td>137</td>\n",
       "      <td>83</td>\n",
       "    </tr>\n",
       "  </tbody>\n",
       "</table>\n",
       "<p>200 rows × 4 columns</p>\n",
       "</div>"
      ],
      "text/plain": [
       "     Gender  Age  Annual Income (k$)  Spending Score (1-100)\n",
       "0      Male   19                  15                      39\n",
       "1      Male   21                  15                      81\n",
       "2    Female   20                  16                       6\n",
       "3    Female   23                  16                      77\n",
       "4    Female   31                  17                      40\n",
       "..      ...  ...                 ...                     ...\n",
       "195  Female   35                 120                      79\n",
       "196  Female   45                 126                      28\n",
       "197    Male   32                 126                      74\n",
       "198    Male   32                 137                      18\n",
       "199    Male   30                 137                      83\n",
       "\n",
       "[200 rows x 4 columns]"
      ]
     },
     "execution_count": 39,
     "metadata": {},
     "output_type": "execute_result"
    }
   ],
   "source": [
    "df = df.drop('CustomerID', axis=1)\n",
    "df"
   ]
  },
  {
   "cell_type": "markdown",
   "metadata": {},
   "source": [
    "## Exploratory Data Analysis\n",
    "Untuk mendapatkan hasil yang lebih optimal, kita perlu mempertimbangkan variabel mana saja yang sebaiknya digunakan untuk pembangunan model. Yang pertama adalah variabel *Gender*. Karena *Gender* bersifat kategorikal, patut dipertanyakan apakah perbedaan *Gender* berpengaruh pada persebaran pelanggan."
   ]
  },
  {
   "cell_type": "code",
   "execution_count": 40,
   "metadata": {},
   "outputs": [
    {
     "data": {
      "image/png": "[encoded data removed]",
      "text/plain": [
       "<Figure size 1080x432 with 1 Axes>"
      ]
     },
     "metadata": {
      "needs_background": "light"
     },
     "output_type": "display_data"
    }
   ],
   "source": [
    "plt.figure(1 , figsize = (15 , 6))\n",
    "for gender in ['Male' , 'Female']:\n",
    "    plt.scatter(x = 'Age' , y = 'Annual Income (k$)' , data = df[df['Gender'] == gender] ,\n",
    "                s = 200 , alpha = 0.5 , label = gender)\n",
    "plt.xlabel('Age'), plt.ylabel('Annual Income (k$)') \n",
    "plt.title('Korelasi Age dan Annual Income Berdasarkan Gender')\n",
    "plt.legend()\n",
    "plt.show()"
   ]
  },
  {
   "cell_type": "markdown",
   "metadata": {},
   "source": [
    "Dari *scatterplot* di atas, dapat dilihat bahwa perbedaan *Gender* tidak terlalu berpengaruh pada pengelompokan konsumen dari segi pendapatan dan umur. Kesimpulan ini diambil karena titik-titik berwarna oranye dan biru tersebar merata."
   ]
  },
  {
   "cell_type": "code",
   "execution_count": 41,
   "metadata": {},
   "outputs": [
    {
     "data": {
      "image/png": "[encoded data removed]",
      "text/plain": [
       "<Figure size 1080x432 with 1 Axes>"
      ]
     },
     "metadata": {
      "needs_background": "light"
     },
     "output_type": "display_data"
    }
   ],
   "source": [
    "plt.figure(1 , figsize = (15 , 6))\n",
    "for gender in ['Male' , 'Female']:\n",
    "    plt.scatter(x = 'Age' , y = 'Spending Score (1-100)' , data = df[df['Gender'] == gender] ,\n",
    "                s = 200 , alpha = 0.5 , label = gender)\n",
    "plt.xlabel('Age'), plt.ylabel('Spending Score (1-100))') \n",
    "plt.title('Korelasi Age dan Spending Score Berdasarkan Gender')\n",
    "plt.legend()\n",
    "plt.show()"
   ]
  },
  {
   "cell_type": "markdown",
   "metadata": {},
   "source": [
    "Dari *scatterplot* di atas, dapat dilihat bahwa perbedaan *Gender* tidak terlalu berpengaruh pada pengelompokan konsumen dari skor pengeluaran dan umur. Kesimpulan ini diambil karena titik-titik berwarna oranye dan biru tersebar merata."
   ]
  },
  {
   "cell_type": "code",
   "execution_count": 42,
   "metadata": {},
   "outputs": [
    {
     "data": {
      "image/png": "[encoded data removed]",
      "text/plain": [
       "<Figure size 1080x432 with 1 Axes>"
      ]
     },
     "metadata": {
      "needs_background": "light"
     },
     "output_type": "display_data"
    }
   ],
   "source": [
    "plt.figure(1 , figsize = (15 , 6))\n",
    "for gender in ['Male' , 'Female']:\n",
    "    plt.scatter(x = 'Annual Income (k$)',y = 'Spending Score (1-100)' ,\n",
    "                data = df[df['Gender'] == gender] ,s = 200 , alpha = 0.5 , label = gender)\n",
    "plt.xlabel('Annual Income (k$)'), plt.ylabel('Spending Score (1-100)') \n",
    "plt.title('Korelasi Annual Income dan Spending Score Berdasarkan Gender')\n",
    "plt.legend()\n",
    "plt.show()"
   ]
  },
  {
   "cell_type": "markdown",
   "metadata": {},
   "source": [
    "Dari *scatterplot* di atas, dapat dilihat bahwa perbedaan *Gender* tidak terlalu berpengaruh pada pengelompokan konsumen dari pendapatan dan pengeluaran. Kesimpulan ini diambil karena titik-titik berwarna oranye dan biru tersebar merata. Hal menarik lain yang dapat diambil dari *scatterplot* terakhir adalah bahwa pada saat membandingkan *annual income* dan *spending score*, persebaran konsumen seolah terbagi menjadi 5 kelompok yang perbedaan lokasi antar kelompoknya cukup jauh."
   ]
  },
  {
   "cell_type": "markdown",
   "metadata": {},
   "source": [
    "Dari ketiga *scatterplot* yang telah dilakukan, dapat diambil kesimpulan bahwa variabel *Gender* tidak perlu digunakan dalam pengelompokan, karena kurang signifikannya perbedaan yang dihasilkan oleh keberadaan variabel ini dalam ketiga kasus."
   ]
  },
  {
   "cell_type": "code",
   "execution_count": 43,
   "metadata": {},
   "outputs": [
    {
     "data": {
      "text/html": [
       "<div>\n",
       "<style scoped>\n",
       "    .dataframe tbody tr th:only-of-type {\n",
       "        vertical-align: middle;\n",
       "    }\n",
       "\n",
       "    .dataframe tbody tr th {\n",
       "        vertical-align: top;\n",
       "    }\n",
       "\n",
       "    .dataframe thead th {\n",
       "        text-align: right;\n",
       "    }\n",
       "</style>\n",
       "<table border=\"1\" class=\"dataframe\">\n",
       "  <thead>\n",
       "    <tr style=\"text-align: right;\">\n",
       "      <th></th>\n",
       "      <th>Age</th>\n",
       "      <th>Annual Income (k$)</th>\n",
       "      <th>Spending Score (1-100)</th>\n",
       "    </tr>\n",
       "  </thead>\n",
       "  <tbody>\n",
       "    <tr>\n",
       "      <td>0</td>\n",
       "      <td>19</td>\n",
       "      <td>15</td>\n",
       "      <td>39</td>\n",
       "    </tr>\n",
       "    <tr>\n",
       "      <td>1</td>\n",
       "      <td>21</td>\n",
       "      <td>15</td>\n",
       "      <td>81</td>\n",
       "    </tr>\n",
       "    <tr>\n",
       "      <td>2</td>\n",
       "      <td>20</td>\n",
       "      <td>16</td>\n",
       "      <td>6</td>\n",
       "    </tr>\n",
       "    <tr>\n",
       "      <td>3</td>\n",
       "      <td>23</td>\n",
       "      <td>16</td>\n",
       "      <td>77</td>\n",
       "    </tr>\n",
       "    <tr>\n",
       "      <td>4</td>\n",
       "      <td>31</td>\n",
       "      <td>17</td>\n",
       "      <td>40</td>\n",
       "    </tr>\n",
       "    <tr>\n",
       "      <td>...</td>\n",
       "      <td>...</td>\n",
       "      <td>...</td>\n",
       "      <td>...</td>\n",
       "    </tr>\n",
       "    <tr>\n",
       "      <td>195</td>\n",
       "      <td>35</td>\n",
       "      <td>120</td>\n",
       "      <td>79</td>\n",
       "    </tr>\n",
       "    <tr>\n",
       "      <td>196</td>\n",
       "      <td>45</td>\n",
       "      <td>126</td>\n",
       "      <td>28</td>\n",
       "    </tr>\n",
       "    <tr>\n",
       "      <td>197</td>\n",
       "      <td>32</td>\n",
       "      <td>126</td>\n",
       "      <td>74</td>\n",
       "    </tr>\n",
       "    <tr>\n",
       "      <td>198</td>\n",
       "      <td>32</td>\n",
       "      <td>137</td>\n",
       "      <td>18</td>\n",
       "    </tr>\n",
       "    <tr>\n",
       "      <td>199</td>\n",
       "      <td>30</td>\n",
       "      <td>137</td>\n",
       "      <td>83</td>\n",
       "    </tr>\n",
       "  </tbody>\n",
       "</table>\n",
       "<p>200 rows × 3 columns</p>\n",
       "</div>"
      ],
      "text/plain": [
       "     Age  Annual Income (k$)  Spending Score (1-100)\n",
       "0     19                  15                      39\n",
       "1     21                  15                      81\n",
       "2     20                  16                       6\n",
       "3     23                  16                      77\n",
       "4     31                  17                      40\n",
       "..   ...                 ...                     ...\n",
       "195   35                 120                      79\n",
       "196   45                 126                      28\n",
       "197   32                 126                      74\n",
       "198   32                 137                      18\n",
       "199   30                 137                      83\n",
       "\n",
       "[200 rows x 3 columns]"
      ]
     },
     "execution_count": 43,
     "metadata": {},
     "output_type": "execute_result"
    }
   ],
   "source": [
    "df = df.drop(['Gender'], axis = 1)\n",
    "df"
   ]
  },
  {
   "cell_type": "markdown",
   "metadata": {},
   "source": [
    "Sekarang, kita memiliki 3 variabel yang berbeda. Dari hasil eksplorasi, patut diingat bahwa *Spending Score* dan *Annual Income* memiliki persebaran kelompok yang cukup jelas perbedaannya. Namun kita juga masih memiliki variabel *Age* yang bisa berdampak pula bagi pengelompokkan. Karena itu, akan dilakukan *Silhouette Method* untuk mendapatkan koefisien siluet untuk 2 variabel dan 3 variabel. Koefisien siluet tertinggi akan menentukan variabel yang akan kita gunakan beserta nilai k yang akan dipakai untuk membuat model."
   ]
  },
  {
   "cell_type": "markdown",
   "metadata": {},
   "source": [
    "## Silhouette Method\n",
    "*Silhouette Method* merupakan metode yang dilakukan untuk mencari nilai k yang optimal dari sekelompok data. Akan dicari koefisien siluet tertinggi dari beberapa nilai k, dan k dimana koefisien siluetnya tertinggi sebaiknya digunakan sebagai nilai k yang akan diimplementasikan pada pembuatan model kita. Namun sebelum mengaplikasikan metode siluet, akan dilakukan *standard scaling* untuk membuat nilai seluruh baris dan kolom lebih mudah untuk memastikan setiap nilai bersifat **zero-mean** dan **unit-variance**."
   ]
  },
  {
   "cell_type": "markdown",
   "metadata": {},
   "source": [
    "### Standard Scaling"
   ]
  },
  {
   "cell_type": "code",
   "execution_count": 44,
   "metadata": {},
   "outputs": [
    {
     "data": {
      "text/html": [
       "<div>\n",
       "<style scoped>\n",
       "    .dataframe tbody tr th:only-of-type {\n",
       "        vertical-align: middle;\n",
       "    }\n",
       "\n",
       "    .dataframe tbody tr th {\n",
       "        vertical-align: top;\n",
       "    }\n",
       "\n",
       "    .dataframe thead th {\n",
       "        text-align: right;\n",
       "    }\n",
       "</style>\n",
       "<table border=\"1\" class=\"dataframe\">\n",
       "  <thead>\n",
       "    <tr style=\"text-align: right;\">\n",
       "      <th></th>\n",
       "      <th>Age</th>\n",
       "      <th>Annual Income (k$)</th>\n",
       "      <th>Spending Score (1-100)</th>\n",
       "    </tr>\n",
       "  </thead>\n",
       "  <tbody>\n",
       "    <tr>\n",
       "      <td>0</td>\n",
       "      <td>-1.424569</td>\n",
       "      <td>-1.738999</td>\n",
       "      <td>-0.434801</td>\n",
       "    </tr>\n",
       "    <tr>\n",
       "      <td>1</td>\n",
       "      <td>-1.281035</td>\n",
       "      <td>-1.738999</td>\n",
       "      <td>1.195704</td>\n",
       "    </tr>\n",
       "    <tr>\n",
       "      <td>2</td>\n",
       "      <td>-1.352802</td>\n",
       "      <td>-1.700830</td>\n",
       "      <td>-1.715913</td>\n",
       "    </tr>\n",
       "    <tr>\n",
       "      <td>3</td>\n",
       "      <td>-1.137502</td>\n",
       "      <td>-1.700830</td>\n",
       "      <td>1.040418</td>\n",
       "    </tr>\n",
       "    <tr>\n",
       "      <td>4</td>\n",
       "      <td>-0.563369</td>\n",
       "      <td>-1.662660</td>\n",
       "      <td>-0.395980</td>\n",
       "    </tr>\n",
       "    <tr>\n",
       "      <td>...</td>\n",
       "      <td>...</td>\n",
       "      <td>...</td>\n",
       "      <td>...</td>\n",
       "    </tr>\n",
       "    <tr>\n",
       "      <td>195</td>\n",
       "      <td>-0.276302</td>\n",
       "      <td>2.268791</td>\n",
       "      <td>1.118061</td>\n",
       "    </tr>\n",
       "    <tr>\n",
       "      <td>196</td>\n",
       "      <td>0.441365</td>\n",
       "      <td>2.497807</td>\n",
       "      <td>-0.861839</td>\n",
       "    </tr>\n",
       "    <tr>\n",
       "      <td>197</td>\n",
       "      <td>-0.491602</td>\n",
       "      <td>2.497807</td>\n",
       "      <td>0.923953</td>\n",
       "    </tr>\n",
       "    <tr>\n",
       "      <td>198</td>\n",
       "      <td>-0.491602</td>\n",
       "      <td>2.917671</td>\n",
       "      <td>-1.250054</td>\n",
       "    </tr>\n",
       "    <tr>\n",
       "      <td>199</td>\n",
       "      <td>-0.635135</td>\n",
       "      <td>2.917671</td>\n",
       "      <td>1.273347</td>\n",
       "    </tr>\n",
       "  </tbody>\n",
       "</table>\n",
       "<p>200 rows × 3 columns</p>\n",
       "</div>"
      ],
      "text/plain": [
       "          Age  Annual Income (k$)  Spending Score (1-100)\n",
       "0   -1.424569           -1.738999               -0.434801\n",
       "1   -1.281035           -1.738999                1.195704\n",
       "2   -1.352802           -1.700830               -1.715913\n",
       "3   -1.137502           -1.700830                1.040418\n",
       "4   -0.563369           -1.662660               -0.395980\n",
       "..        ...                 ...                     ...\n",
       "195 -0.276302            2.268791                1.118061\n",
       "196  0.441365            2.497807               -0.861839\n",
       "197 -0.491602            2.497807                0.923953\n",
       "198 -0.491602            2.917671               -1.250054\n",
       "199 -0.635135            2.917671                1.273347\n",
       "\n",
       "[200 rows x 3 columns]"
      ]
     },
     "execution_count": 44,
     "metadata": {},
     "output_type": "execute_result"
    }
   ],
   "source": [
    "# Importing Standardscalar Module \n",
    "from sklearn.preprocessing import StandardScaler \n",
    "\n",
    "# Set Name for StandardScaler as scaler\n",
    "scaler = StandardScaler() \n",
    "\n",
    "# Fit Standardization\n",
    "column_names = df.columns.tolist()\n",
    "df[column_names] = scaler.fit_transform(df[column_names])\n",
    "df.sort_index(inplace=True)\n",
    "df"
   ]
  },
  {
   "cell_type": "markdown",
   "metadata": {},
   "source": [
    "### 2 Variabel"
   ]
  },
  {
   "cell_type": "code",
   "execution_count": 45,
   "metadata": {},
   "outputs": [
    {
     "data": {
      "text/html": [
       "<div>\n",
       "<style scoped>\n",
       "    .dataframe tbody tr th:only-of-type {\n",
       "        vertical-align: middle;\n",
       "    }\n",
       "\n",
       "    .dataframe tbody tr th {\n",
       "        vertical-align: top;\n",
       "    }\n",
       "\n",
       "    .dataframe thead th {\n",
       "        text-align: right;\n",
       "    }\n",
       "</style>\n",
       "<table border=\"1\" class=\"dataframe\">\n",
       "  <thead>\n",
       "    <tr style=\"text-align: right;\">\n",
       "      <th></th>\n",
       "      <th>Annual Income (k$)</th>\n",
       "      <th>Spending Score (1-100)</th>\n",
       "    </tr>\n",
       "  </thead>\n",
       "  <tbody>\n",
       "    <tr>\n",
       "      <td>0</td>\n",
       "      <td>-1.738999</td>\n",
       "      <td>-0.434801</td>\n",
       "    </tr>\n",
       "    <tr>\n",
       "      <td>1</td>\n",
       "      <td>-1.738999</td>\n",
       "      <td>1.195704</td>\n",
       "    </tr>\n",
       "    <tr>\n",
       "      <td>2</td>\n",
       "      <td>-1.700830</td>\n",
       "      <td>-1.715913</td>\n",
       "    </tr>\n",
       "    <tr>\n",
       "      <td>3</td>\n",
       "      <td>-1.700830</td>\n",
       "      <td>1.040418</td>\n",
       "    </tr>\n",
       "    <tr>\n",
       "      <td>4</td>\n",
       "      <td>-1.662660</td>\n",
       "      <td>-0.395980</td>\n",
       "    </tr>\n",
       "    <tr>\n",
       "      <td>...</td>\n",
       "      <td>...</td>\n",
       "      <td>...</td>\n",
       "    </tr>\n",
       "    <tr>\n",
       "      <td>195</td>\n",
       "      <td>2.268791</td>\n",
       "      <td>1.118061</td>\n",
       "    </tr>\n",
       "    <tr>\n",
       "      <td>196</td>\n",
       "      <td>2.497807</td>\n",
       "      <td>-0.861839</td>\n",
       "    </tr>\n",
       "    <tr>\n",
       "      <td>197</td>\n",
       "      <td>2.497807</td>\n",
       "      <td>0.923953</td>\n",
       "    </tr>\n",
       "    <tr>\n",
       "      <td>198</td>\n",
       "      <td>2.917671</td>\n",
       "      <td>-1.250054</td>\n",
       "    </tr>\n",
       "    <tr>\n",
       "      <td>199</td>\n",
       "      <td>2.917671</td>\n",
       "      <td>1.273347</td>\n",
       "    </tr>\n",
       "  </tbody>\n",
       "</table>\n",
       "<p>200 rows × 2 columns</p>\n",
       "</div>"
      ],
      "text/plain": [
       "     Annual Income (k$)  Spending Score (1-100)\n",
       "0             -1.738999               -0.434801\n",
       "1             -1.738999                1.195704\n",
       "2             -1.700830               -1.715913\n",
       "3             -1.700830                1.040418\n",
       "4             -1.662660               -0.395980\n",
       "..                  ...                     ...\n",
       "195            2.268791                1.118061\n",
       "196            2.497807               -0.861839\n",
       "197            2.497807                0.923953\n",
       "198            2.917671               -1.250054\n",
       "199            2.917671                1.273347\n",
       "\n",
       "[200 rows x 2 columns]"
      ]
     },
     "execution_count": 45,
     "metadata": {},
     "output_type": "execute_result"
    }
   ],
   "source": [
    "df2 = df.drop(['Age'], axis = 1)\n",
    "df2"
   ]
  },
  {
   "cell_type": "code",
   "execution_count": 46,
   "metadata": {},
   "outputs": [
    {
     "data": {
      "text/plain": [
       "array([[-1.73899919, -0.43480148],\n",
       "       [-1.73899919,  1.19570407],\n",
       "       [-1.70082976, -1.71591298],\n",
       "       [-1.70082976,  1.04041783],\n",
       "       [-1.66266033, -0.39597992],\n",
       "       [-1.66266033,  1.00159627],\n",
       "       [-1.62449091, -1.71591298],\n",
       "       [-1.62449091,  1.70038436],\n",
       "       [-1.58632148, -1.83237767],\n",
       "       [-1.58632148,  0.84631002],\n",
       "       [-1.58632148, -1.4053405 ],\n",
       "       [-1.58632148,  1.89449216],\n",
       "       [-1.54815205, -1.36651894],\n",
       "       [-1.54815205,  1.04041783],\n",
       "       [-1.54815205, -1.44416206],\n",
       "       [-1.54815205,  1.11806095],\n",
       "       [-1.50998262, -0.59008772],\n",
       "       [-1.50998262,  0.61338066],\n",
       "       [-1.43364376, -0.82301709],\n",
       "       [-1.43364376,  1.8556706 ],\n",
       "       [-1.39547433, -0.59008772],\n",
       "       [-1.39547433,  0.88513158],\n",
       "       [-1.3573049 , -1.75473454],\n",
       "       [-1.3573049 ,  0.88513158],\n",
       "       [-1.24279661, -1.4053405 ],\n",
       "       [-1.24279661,  1.23452563],\n",
       "       [-1.24279661, -0.7065524 ],\n",
       "       [-1.24279661,  0.41927286],\n",
       "       [-1.20462718, -0.74537397],\n",
       "       [-1.20462718,  1.42863343],\n",
       "       [-1.16645776, -1.7935561 ],\n",
       "       [-1.16645776,  0.88513158],\n",
       "       [-1.05194947, -1.7935561 ],\n",
       "       [-1.05194947,  1.62274124],\n",
       "       [-1.05194947, -1.4053405 ],\n",
       "       [-1.05194947,  1.19570407],\n",
       "       [-1.01378004, -1.28887582],\n",
       "       [-1.01378004,  0.88513158],\n",
       "       [-0.89927175, -0.93948177],\n",
       "       [-0.89927175,  0.96277471],\n",
       "       [-0.86110232, -0.59008772],\n",
       "       [-0.86110232,  1.62274124],\n",
       "       [-0.82293289, -0.55126616],\n",
       "       [-0.82293289,  0.41927286],\n",
       "       [-0.82293289, -0.86183865],\n",
       "       [-0.82293289,  0.5745591 ],\n",
       "       [-0.78476346,  0.18634349],\n",
       "       [-0.78476346, -0.12422899],\n",
       "       [-0.78476346, -0.3183368 ],\n",
       "       [-0.78476346, -0.3183368 ],\n",
       "       [-0.70842461,  0.06987881],\n",
       "       [-0.70842461,  0.38045129],\n",
       "       [-0.67025518,  0.14752193],\n",
       "       [-0.67025518,  0.38045129],\n",
       "       [-0.67025518, -0.20187212],\n",
       "       [-0.67025518, -0.35715836],\n",
       "       [-0.63208575, -0.00776431],\n",
       "       [-0.63208575, -0.16305055],\n",
       "       [-0.55574689,  0.03105725],\n",
       "       [-0.55574689, -0.16305055],\n",
       "       [-0.55574689,  0.22516505],\n",
       "       [-0.55574689,  0.18634349],\n",
       "       [-0.51757746,  0.06987881],\n",
       "       [-0.51757746,  0.34162973],\n",
       "       [-0.47940803,  0.03105725],\n",
       "       [-0.47940803,  0.34162973],\n",
       "       [-0.47940803, -0.00776431],\n",
       "       [-0.47940803, -0.08540743],\n",
       "       [-0.47940803,  0.34162973],\n",
       "       [-0.47940803, -0.12422899],\n",
       "       [-0.4412386 ,  0.18634349],\n",
       "       [-0.4412386 , -0.3183368 ],\n",
       "       [-0.40306917, -0.04658587],\n",
       "       [-0.40306917,  0.22516505],\n",
       "       [-0.25039146, -0.12422899],\n",
       "       [-0.25039146,  0.14752193],\n",
       "       [-0.25039146,  0.10870037],\n",
       "       [-0.25039146, -0.08540743],\n",
       "       [-0.25039146,  0.06987881],\n",
       "       [-0.25039146, -0.3183368 ],\n",
       "       [-0.25039146,  0.03105725],\n",
       "       [-0.25039146,  0.18634349],\n",
       "       [-0.25039146, -0.35715836],\n",
       "       [-0.25039146, -0.24069368],\n",
       "       [-0.25039146,  0.26398661],\n",
       "       [-0.25039146, -0.16305055],\n",
       "       [-0.13588317,  0.30280817],\n",
       "       [-0.13588317,  0.18634349],\n",
       "       [-0.09771374,  0.38045129],\n",
       "       [-0.09771374, -0.16305055],\n",
       "       [-0.05954431,  0.18634349],\n",
       "       [-0.05954431, -0.35715836],\n",
       "       [-0.02137488, -0.04658587],\n",
       "       [-0.02137488, -0.39597992],\n",
       "       [-0.02137488, -0.3183368 ],\n",
       "       [-0.02137488,  0.06987881],\n",
       "       [-0.02137488, -0.12422899],\n",
       "       [-0.02137488, -0.00776431],\n",
       "       [ 0.01679455, -0.3183368 ],\n",
       "       [ 0.01679455, -0.04658587],\n",
       "       [ 0.05496398, -0.35715836],\n",
       "       [ 0.05496398, -0.08540743],\n",
       "       [ 0.05496398,  0.34162973],\n",
       "       [ 0.05496398,  0.18634349],\n",
       "       [ 0.05496398,  0.22516505],\n",
       "       [ 0.05496398, -0.3183368 ],\n",
       "       [ 0.09313341, -0.00776431],\n",
       "       [ 0.09313341, -0.16305055],\n",
       "       [ 0.09313341, -0.27951524],\n",
       "       [ 0.09313341, -0.08540743],\n",
       "       [ 0.09313341,  0.06987881],\n",
       "       [ 0.09313341,  0.14752193],\n",
       "       [ 0.13130284, -0.3183368 ],\n",
       "       [ 0.13130284, -0.16305055],\n",
       "       [ 0.16947227, -0.08540743],\n",
       "       [ 0.16947227, -0.00776431],\n",
       "       [ 0.16947227, -0.27951524],\n",
       "       [ 0.16947227,  0.34162973],\n",
       "       [ 0.24581112, -0.27951524],\n",
       "       [ 0.24581112,  0.26398661],\n",
       "       [ 0.24581112,  0.22516505],\n",
       "       [ 0.24581112, -0.39597992],\n",
       "       [ 0.32214998,  0.30280817],\n",
       "       [ 0.32214998,  1.58391968],\n",
       "       [ 0.36031941, -0.82301709],\n",
       "       [ 0.36031941,  1.04041783],\n",
       "       [ 0.39848884, -0.59008772],\n",
       "       [ 0.39848884,  1.73920592],\n",
       "       [ 0.39848884, -1.52180518],\n",
       "       [ 0.39848884,  0.96277471],\n",
       "       [ 0.39848884, -1.5994483 ],\n",
       "       [ 0.39848884,  0.96277471],\n",
       "       [ 0.43665827, -0.62890928],\n",
       "       [ 0.43665827,  0.80748846],\n",
       "       [ 0.4748277 , -1.75473454],\n",
       "       [ 0.4748277 ,  1.46745499],\n",
       "       [ 0.4748277 , -1.67709142],\n",
       "       [ 0.4748277 ,  0.88513158],\n",
       "       [ 0.51299713, -1.56062674],\n",
       "       [ 0.51299713,  0.84631002],\n",
       "       [ 0.55116656, -1.75473454],\n",
       "       [ 0.55116656,  1.6615628 ],\n",
       "       [ 0.58933599, -0.39597992],\n",
       "       [ 0.58933599,  1.42863343],\n",
       "       [ 0.62750542, -1.48298362],\n",
       "       [ 0.62750542,  1.81684904],\n",
       "       [ 0.62750542, -0.55126616],\n",
       "       [ 0.62750542,  0.92395314],\n",
       "       [ 0.66567484, -1.09476801],\n",
       "       [ 0.66567484,  1.54509812],\n",
       "       [ 0.66567484, -1.28887582],\n",
       "       [ 0.66567484,  1.46745499],\n",
       "       [ 0.66567484, -1.17241113],\n",
       "       [ 0.66567484,  1.00159627],\n",
       "       [ 0.66567484, -1.32769738],\n",
       "       [ 0.66567484,  1.50627656],\n",
       "       [ 0.66567484, -1.91002079],\n",
       "       [ 0.66567484,  1.07923939],\n",
       "       [ 0.66567484, -1.91002079],\n",
       "       [ 0.66567484,  0.88513158],\n",
       "       [ 0.70384427, -0.59008772],\n",
       "       [ 0.70384427,  1.27334719],\n",
       "       [ 0.78018313, -1.75473454],\n",
       "       [ 0.78018313,  1.6615628 ],\n",
       "       [ 0.93286085, -0.93948177],\n",
       "       [ 0.93286085,  0.96277471],\n",
       "       [ 0.97103028, -1.17241113],\n",
       "       [ 0.97103028,  1.73920592],\n",
       "       [ 1.00919971, -0.90066021],\n",
       "       [ 1.00919971,  0.49691598],\n",
       "       [ 1.00919971, -1.44416206],\n",
       "       [ 1.00919971,  0.96277471],\n",
       "       [ 1.00919971, -1.56062674],\n",
       "       [ 1.00919971,  1.62274124],\n",
       "       [ 1.04736914, -1.44416206],\n",
       "       [ 1.04736914,  1.38981187],\n",
       "       [ 1.04736914, -1.36651894],\n",
       "       [ 1.04736914,  0.72984534],\n",
       "       [ 1.23821628, -1.4053405 ],\n",
       "       [ 1.23821628,  1.54509812],\n",
       "       [ 1.390894  , -0.7065524 ],\n",
       "       [ 1.390894  ,  1.38981187],\n",
       "       [ 1.42906343, -1.36651894],\n",
       "       [ 1.42906343,  1.46745499],\n",
       "       [ 1.46723286, -0.43480148],\n",
       "       [ 1.46723286,  1.81684904],\n",
       "       [ 1.54357172, -1.01712489],\n",
       "       [ 1.54357172,  0.69102378],\n",
       "       [ 1.61991057, -1.28887582],\n",
       "       [ 1.61991057,  1.35099031],\n",
       "       [ 1.61991057, -1.05594645],\n",
       "       [ 1.61991057,  0.72984534],\n",
       "       [ 2.00160487, -1.63826986],\n",
       "       [ 2.00160487,  1.58391968],\n",
       "       [ 2.26879087, -1.32769738],\n",
       "       [ 2.26879087,  1.11806095],\n",
       "       [ 2.49780745, -0.86183865],\n",
       "       [ 2.49780745,  0.92395314],\n",
       "       [ 2.91767117, -1.25005425],\n",
       "       [ 2.91767117,  1.27334719]])"
      ]
     },
     "execution_count": 46,
     "metadata": {},
     "output_type": "execute_result"
    }
   ],
   "source": [
    "X2 = df2.to_numpy()\n",
    "X2"
   ]
  },
  {
   "cell_type": "code",
   "execution_count": 47,
   "metadata": {},
   "outputs": [
    {
     "name": "stdout",
     "output_type": "stream",
     "text": [
      "For n_clusters=2, The Silhouette Coefficient is 0.28953270137686243\n",
      "For n_clusters=3, The Silhouette Coefficient is 0.46658474419000145\n",
      "For n_clusters=4, The Silhouette Coefficient is 0.4939069237513199\n",
      "For n_clusters=5, The Silhouette Coefficient is 0.5546571631111091\n",
      "For n_clusters=6, The Silhouette Coefficient is 0.5380630705007141\n",
      "For n_clusters=7, The Silhouette Coefficient is 0.5263454490712252\n",
      "For n_clusters=8, The Silhouette Coefficient is 0.45317028376017787\n",
      "For n_clusters=9, The Silhouette Coefficient is 0.455477460588866\n",
      "For n_clusters=10, The Silhouette Coefficient is 0.4476280825932578\n"
     ]
    }
   ],
   "source": [
    "# Silhoutte Method\n",
    "from sklearn.metrics import silhouette_score\n",
    "from sklearn.cluster import KMeans\n",
    "\n",
    "for n_cluster in range(2, 11):\n",
    "    kmeans = KMeans(n_clusters=n_cluster).fit(X2)\n",
    "    label = kmeans.labels_\n",
    "    sil_coeff = silhouette_score(X2, label, metric='euclidean')\n",
    "    print('For n_clusters={}, The Silhouette Coefficient is {}'.format(n_cluster, sil_coeff))"
   ]
  },
  {
   "cell_type": "markdown",
   "metadata": {},
   "source": [
    "Dari keterangan di atas, dapat dilihat bahwa k dengan koefisien siluet tertinggi adalah **k = 5** dengan koefisien siluet **0.5547**. Selanjutnya kita coba *Silhouette Model* dengan 3 Variabel.\n",
    "### 3 Variabel"
   ]
  },
  {
   "cell_type": "code",
   "execution_count": 48,
   "metadata": {},
   "outputs": [
    {
     "data": {
      "text/plain": [
       "array([[-1.42456879, -1.73899919, -0.43480148],\n",
       "       [-1.28103541, -1.73899919,  1.19570407],\n",
       "       [-1.3528021 , -1.70082976, -1.71591298],\n",
       "       [-1.13750203, -1.70082976,  1.04041783],\n",
       "       [-0.56336851, -1.66266033, -0.39597992],\n",
       "       [-1.20926872, -1.66266033,  1.00159627],\n",
       "       [-0.27630176, -1.62449091, -1.71591298],\n",
       "       [-1.13750203, -1.62449091,  1.70038436],\n",
       "       [ 1.80493225, -1.58632148, -1.83237767],\n",
       "       [-0.6351352 , -1.58632148,  0.84631002],\n",
       "       [ 2.02023231, -1.58632148, -1.4053405 ],\n",
       "       [-0.27630176, -1.58632148,  1.89449216],\n",
       "       [ 1.37433211, -1.54815205, -1.36651894],\n",
       "       [-1.06573534, -1.54815205,  1.04041783],\n",
       "       [-0.13276838, -1.54815205, -1.44416206],\n",
       "       [-1.20926872, -1.54815205,  1.11806095],\n",
       "       [-0.27630176, -1.50998262, -0.59008772],\n",
       "       [-1.3528021 , -1.50998262,  0.61338066],\n",
       "       [ 0.94373197, -1.43364376, -0.82301709],\n",
       "       [-0.27630176, -1.43364376,  1.8556706 ],\n",
       "       [-0.27630176, -1.39547433, -0.59008772],\n",
       "       [-0.99396865, -1.39547433,  0.88513158],\n",
       "       [ 0.51313183, -1.3573049 , -1.75473454],\n",
       "       [-0.56336851, -1.3573049 ,  0.88513158],\n",
       "       [ 1.08726535, -1.24279661, -1.4053405 ],\n",
       "       [-0.70690189, -1.24279661,  1.23452563],\n",
       "       [ 0.44136514, -1.24279661, -0.7065524 ],\n",
       "       [-0.27630176, -1.24279661,  0.41927286],\n",
       "       [ 0.08253169, -1.20462718, -0.74537397],\n",
       "       [-1.13750203, -1.20462718,  1.42863343],\n",
       "       [ 1.51786549, -1.16645776, -1.7935561 ],\n",
       "       [-1.28103541, -1.16645776,  0.88513158],\n",
       "       [ 1.01549866, -1.05194947, -1.7935561 ],\n",
       "       [-1.49633548, -1.05194947,  1.62274124],\n",
       "       [ 0.7284319 , -1.05194947, -1.4053405 ],\n",
       "       [-1.28103541, -1.05194947,  1.19570407],\n",
       "       [ 0.22606507, -1.01378004, -1.28887582],\n",
       "       [-0.6351352 , -1.01378004,  0.88513158],\n",
       "       [-0.20453507, -0.89927175, -0.93948177],\n",
       "       [-1.3528021 , -0.89927175,  0.96277471],\n",
       "       [ 1.87669894, -0.86110232, -0.59008772],\n",
       "       [-1.06573534, -0.86110232,  1.62274124],\n",
       "       [ 0.65666521, -0.82293289, -0.55126616],\n",
       "       [-0.56336851, -0.82293289,  0.41927286],\n",
       "       [ 0.7284319 , -0.82293289, -0.86183865],\n",
       "       [-1.06573534, -0.82293289,  0.5745591 ],\n",
       "       [ 0.80019859, -0.78476346,  0.18634349],\n",
       "       [-0.85043527, -0.78476346, -0.12422899],\n",
       "       [-0.70690189, -0.78476346, -0.3183368 ],\n",
       "       [-0.56336851, -0.78476346, -0.3183368 ],\n",
       "       [ 0.7284319 , -0.70842461,  0.06987881],\n",
       "       [-0.41983513, -0.70842461,  0.38045129],\n",
       "       [-0.56336851, -0.67025518,  0.14752193],\n",
       "       [ 1.4460988 , -0.67025518,  0.38045129],\n",
       "       [ 0.80019859, -0.67025518, -0.20187212],\n",
       "       [ 0.58489852, -0.67025518, -0.35715836],\n",
       "       [ 0.87196528, -0.63208575, -0.00776431],\n",
       "       [ 2.16376569, -0.63208575, -0.16305055],\n",
       "       [-0.85043527, -0.55574689,  0.03105725],\n",
       "       [ 1.01549866, -0.55574689, -0.16305055],\n",
       "       [ 2.23553238, -0.55574689,  0.22516505],\n",
       "       [-1.42456879, -0.55574689,  0.18634349],\n",
       "       [ 2.02023231, -0.51757746,  0.06987881],\n",
       "       [ 1.08726535, -0.51757746,  0.34162973],\n",
       "       [ 1.73316556, -0.47940803,  0.03105725],\n",
       "       [-1.49633548, -0.47940803,  0.34162973],\n",
       "       [ 0.29783176, -0.47940803, -0.00776431],\n",
       "       [ 2.091999  , -0.47940803, -0.08540743],\n",
       "       [-1.42456879, -0.47940803,  0.34162973],\n",
       "       [-0.49160182, -0.47940803, -0.12422899],\n",
       "       [ 2.23553238, -0.4412386 ,  0.18634349],\n",
       "       [ 0.58489852, -0.4412386 , -0.3183368 ],\n",
       "       [ 1.51786549, -0.40306917, -0.04658587],\n",
       "       [ 1.51786549, -0.40306917,  0.22516505],\n",
       "       [ 1.4460988 , -0.25039146, -0.12422899],\n",
       "       [-0.92220196, -0.25039146,  0.14752193],\n",
       "       [ 0.44136514, -0.25039146,  0.10870037],\n",
       "       [ 0.08253169, -0.25039146, -0.08540743],\n",
       "       [-1.13750203, -0.25039146,  0.06987881],\n",
       "       [ 0.7284319 , -0.25039146, -0.3183368 ],\n",
       "       [ 1.30256542, -0.25039146,  0.03105725],\n",
       "       [-0.06100169, -0.25039146,  0.18634349],\n",
       "       [ 2.02023231, -0.25039146, -0.35715836],\n",
       "       [ 0.51313183, -0.25039146, -0.24069368],\n",
       "       [-1.28103541, -0.25039146,  0.26398661],\n",
       "       [ 0.65666521, -0.25039146, -0.16305055],\n",
       "       [ 1.15903204, -0.13588317,  0.30280817],\n",
       "       [-1.20926872, -0.13588317,  0.18634349],\n",
       "       [-0.34806844, -0.09771374,  0.38045129],\n",
       "       [ 0.80019859, -0.09771374, -0.16305055],\n",
       "       [ 2.091999  , -0.05954431,  0.18634349],\n",
       "       [-1.49633548, -0.05954431, -0.35715836],\n",
       "       [ 0.65666521, -0.02137488, -0.04658587],\n",
       "       [ 0.08253169, -0.02137488, -0.39597992],\n",
       "       [-0.49160182, -0.02137488, -0.3183368 ],\n",
       "       [-1.06573534, -0.02137488,  0.06987881],\n",
       "       [ 0.58489852, -0.02137488, -0.12422899],\n",
       "       [-0.85043527, -0.02137488, -0.00776431],\n",
       "       [ 0.65666521,  0.01679455, -0.3183368 ],\n",
       "       [-1.3528021 ,  0.01679455, -0.04658587],\n",
       "       [-1.13750203,  0.05496398, -0.35715836],\n",
       "       [ 0.7284319 ,  0.05496398, -0.08540743],\n",
       "       [ 2.02023231,  0.05496398,  0.34162973],\n",
       "       [-0.92220196,  0.05496398,  0.18634349],\n",
       "       [ 0.7284319 ,  0.05496398,  0.22516505],\n",
       "       [-1.28103541,  0.05496398, -0.3183368 ],\n",
       "       [ 1.94846562,  0.09313341, -0.00776431],\n",
       "       [ 1.08726535,  0.09313341, -0.16305055],\n",
       "       [ 2.091999  ,  0.09313341, -0.27951524],\n",
       "       [ 1.94846562,  0.09313341, -0.08540743],\n",
       "       [ 1.87669894,  0.09313341,  0.06987881],\n",
       "       [-1.42456879,  0.09313341,  0.14752193],\n",
       "       [-0.06100169,  0.13130284, -0.3183368 ],\n",
       "       [-1.42456879,  0.13130284, -0.16305055],\n",
       "       [-1.49633548,  0.16947227, -0.08540743],\n",
       "       [-1.42456879,  0.16947227, -0.00776431],\n",
       "       [ 1.73316556,  0.16947227, -0.27951524],\n",
       "       [ 0.7284319 ,  0.16947227,  0.34162973],\n",
       "       [ 0.87196528,  0.24581112, -0.27951524],\n",
       "       [ 0.80019859,  0.24581112,  0.26398661],\n",
       "       [-0.85043527,  0.24581112,  0.22516505],\n",
       "       [-0.06100169,  0.24581112, -0.39597992],\n",
       "       [ 0.08253169,  0.32214998,  0.30280817],\n",
       "       [ 0.010765  ,  0.32214998,  1.58391968],\n",
       "       [-1.13750203,  0.36031941, -0.82301709],\n",
       "       [-0.56336851,  0.36031941,  1.04041783],\n",
       "       [ 0.29783176,  0.39848884, -0.59008772],\n",
       "       [ 0.08253169,  0.39848884,  1.73920592],\n",
       "       [ 1.4460988 ,  0.39848884, -1.52180518],\n",
       "       [-0.06100169,  0.39848884,  0.96277471],\n",
       "       [ 0.58489852,  0.39848884, -1.5994483 ],\n",
       "       [ 0.010765  ,  0.39848884,  0.96277471],\n",
       "       [-0.99396865,  0.43665827, -0.62890928],\n",
       "       [-0.56336851,  0.43665827,  0.80748846],\n",
       "       [-1.3528021 ,  0.4748277 , -1.75473454],\n",
       "       [-0.70690189,  0.4748277 ,  1.46745499],\n",
       "       [ 0.36959845,  0.4748277 , -1.67709142],\n",
       "       [-0.49160182,  0.4748277 ,  0.88513158],\n",
       "       [-1.42456879,  0.51299713, -1.56062674],\n",
       "       [-0.27630176,  0.51299713,  0.84631002],\n",
       "       [ 1.30256542,  0.55116656, -1.75473454],\n",
       "       [-0.49160182,  0.55116656,  1.6615628 ],\n",
       "       [-0.77866858,  0.58933599, -0.39597992],\n",
       "       [-0.49160182,  0.58933599,  1.42863343],\n",
       "       [-0.99396865,  0.62750542, -1.48298362],\n",
       "       [-0.77866858,  0.62750542,  1.81684904],\n",
       "       [ 0.65666521,  0.62750542, -0.55126616],\n",
       "       [-0.49160182,  0.62750542,  0.92395314],\n",
       "       [-0.34806844,  0.66567484, -1.09476801],\n",
       "       [-0.34806844,  0.66567484,  1.54509812],\n",
       "       [ 0.29783176,  0.66567484, -1.28887582],\n",
       "       [ 0.010765  ,  0.66567484,  1.46745499],\n",
       "       [ 0.36959845,  0.66567484, -1.17241113],\n",
       "       [-0.06100169,  0.66567484,  1.00159627],\n",
       "       [ 0.58489852,  0.66567484, -1.32769738],\n",
       "       [-0.85043527,  0.66567484,  1.50627656],\n",
       "       [-0.13276838,  0.66567484, -1.91002079],\n",
       "       [-0.6351352 ,  0.66567484,  1.07923939],\n",
       "       [-0.34806844,  0.66567484, -1.91002079],\n",
       "       [-0.6351352 ,  0.66567484,  0.88513158],\n",
       "       [ 1.23079873,  0.70384427, -0.59008772],\n",
       "       [-0.70690189,  0.70384427,  1.27334719],\n",
       "       [-1.42456879,  0.78018313, -1.75473454],\n",
       "       [-0.56336851,  0.78018313,  1.6615628 ],\n",
       "       [ 0.80019859,  0.93286085, -0.93948177],\n",
       "       [-0.20453507,  0.93286085,  0.96277471],\n",
       "       [ 0.22606507,  0.97103028, -1.17241113],\n",
       "       [-0.41983513,  0.97103028,  1.73920592],\n",
       "       [-0.20453507,  1.00919971, -0.90066021],\n",
       "       [-0.49160182,  1.00919971,  0.49691598],\n",
       "       [ 0.08253169,  1.00919971, -1.44416206],\n",
       "       [-0.77866858,  1.00919971,  0.96277471],\n",
       "       [-0.20453507,  1.00919971, -1.56062674],\n",
       "       [-0.20453507,  1.00919971,  1.62274124],\n",
       "       [ 0.94373197,  1.04736914, -1.44416206],\n",
       "       [-0.6351352 ,  1.04736914,  1.38981187],\n",
       "       [ 1.37433211,  1.04736914, -1.36651894],\n",
       "       [-0.85043527,  1.04736914,  0.72984534],\n",
       "       [ 1.4460988 ,  1.23821628, -1.4053405 ],\n",
       "       [-0.27630176,  1.23821628,  1.54509812],\n",
       "       [-0.13276838,  1.390894  , -0.7065524 ],\n",
       "       [-0.49160182,  1.390894  ,  1.38981187],\n",
       "       [ 0.51313183,  1.42906343, -1.36651894],\n",
       "       [-0.70690189,  1.42906343,  1.46745499],\n",
       "       [ 0.15429838,  1.46723286, -0.43480148],\n",
       "       [-0.6351352 ,  1.46723286,  1.81684904],\n",
       "       [ 1.08726535,  1.54357172, -1.01712489],\n",
       "       [-0.77866858,  1.54357172,  0.69102378],\n",
       "       [ 0.15429838,  1.61991057, -1.28887582],\n",
       "       [-0.20453507,  1.61991057,  1.35099031],\n",
       "       [-0.34806844,  1.61991057, -1.05594645],\n",
       "       [-0.49160182,  1.61991057,  0.72984534],\n",
       "       [-0.41983513,  2.00160487, -1.63826986],\n",
       "       [-0.06100169,  2.00160487,  1.58391968],\n",
       "       [ 0.58489852,  2.26879087, -1.32769738],\n",
       "       [-0.27630176,  2.26879087,  1.11806095],\n",
       "       [ 0.44136514,  2.49780745, -0.86183865],\n",
       "       [-0.49160182,  2.49780745,  0.92395314],\n",
       "       [-0.49160182,  2.91767117, -1.25005425],\n",
       "       [-0.6351352 ,  2.91767117,  1.27334719]])"
      ]
     },
     "execution_count": 48,
     "metadata": {},
     "output_type": "execute_result"
    }
   ],
   "source": [
    "X3 = df.to_numpy()\n",
    "X3"
   ]
  },
  {
   "cell_type": "code",
   "execution_count": 49,
   "metadata": {},
   "outputs": [
    {
     "name": "stdout",
     "output_type": "stream",
     "text": [
      "For n_clusters=2, The Silhouette Coefficient is 0.33547192894004574\n",
      "For n_clusters=3, The Silhouette Coefficient is 0.357793388710272\n",
      "For n_clusters=4, The Silhouette Coefficient is 0.4039582785148566\n",
      "For n_clusters=5, The Silhouette Coefficient is 0.41664341513732767\n",
      "For n_clusters=6, The Silhouette Coefficient is 0.4268547747113388\n",
      "For n_clusters=7, The Silhouette Coefficient is 0.417231894954916\n",
      "For n_clusters=8, The Silhouette Coefficient is 0.4092057729049121\n",
      "For n_clusters=9, The Silhouette Coefficient is 0.41831012641905574\n",
      "For n_clusters=10, The Silhouette Coefficient is 0.3933675804240833\n"
     ]
    }
   ],
   "source": [
    "# Silhoutte Method\n",
    "from sklearn.metrics import silhouette_score\n",
    "from sklearn.cluster import KMeans\n",
    "\n",
    "for n_cluster in range(2, 11):\n",
    "    kmeans = KMeans(n_clusters=n_cluster).fit(X3)\n",
    "    label = kmeans.labels_\n",
    "    sil_coeff = silhouette_score(X3, label, metric='euclidean')\n",
    "    print('For n_clusters={}, The Silhouette Coefficient is {}'.format(n_cluster, sil_coeff))"
   ]
  },
  {
   "cell_type": "markdown",
   "metadata": {},
   "source": [
    "Dari keterangan di atas, dapat dilihat bahwa k dengan koefisien siluet tertinggi adalah **k = 6** dengan koefisien siluet **0.4268**. Secara umum, koefisien tertinggi dari kasus 2 dan 3 variabel ada pada **2 variabel dengan k = 5**, karena itu, kedua nilai inilah yang akan kita gunakan dalam pengelompokkan utama kita."
   ]
  },
  {
   "cell_type": "markdown",
   "metadata": {},
   "source": [
    "## K-Means Clustering\n",
    "*K-Means Clustering* merupakan metode pengelompokkan berdasarkan k jumlah titik pusat. "
   ]
  },
  {
   "cell_type": "code",
   "execution_count": 50,
   "metadata": {},
   "outputs": [
    {
     "data": {
      "image/png": "[encoded data removed]",
      "text/plain": [
       "<Figure size 432x288 with 1 Axes>"
      ]
     },
     "metadata": {
      "needs_background": "light"
     },
     "output_type": "display_data"
    }
   ],
   "source": [
    "# Apply the K-Means Model to the Data\n",
    "kmeans = KMeans(n_clusters=5, init='k-means++', max_iter=300, n_init=10, random_state=0)\n",
    "cluster = kmeans.fit_predict(X2)\n",
    "\n",
    "# Visualising Clusters for k=5\n",
    "sns.scatterplot(x = 'Annual Income (k$)',y = 'Spending Score (1-100)', data=df2)\n",
    "plt.scatter(X2[cluster == 0, 0], X2[cluster == 0, 1], s = 50, label = 'Cluster 1')\n",
    "plt.scatter(X2[cluster == 1, 0], X2[cluster == 1, 1], s = 50, label = 'Cluster 2')\n",
    "plt.scatter(X2[cluster == 2, 0], X2[cluster == 2, 1], s = 50, label = 'Cluster 3')\n",
    "plt.scatter(X2[cluster == 3, 0], X2[cluster == 3, 1], s = 50, label = 'Cluster 4')\n",
    "plt.scatter(X2[cluster == 4, 0], X2[cluster == 4, 1], s = 50, label = 'Cluster 5')\n",
    "plt.scatter(kmeans.cluster_centers_[:,0], kmeans.cluster_centers_[:,1],s=200,marker='s', alpha=0.7, label='Centroids')\n",
    "plt.title('Customer segments')\n",
    "plt.xlabel('Annual income')\n",
    "plt.ylabel('Annual spend')\n",
    "plt.legend()\n",
    "plt.show()"
   ]
  },
  {
   "cell_type": "markdown",
   "metadata": {},
   "source": [
    "## Kesimpulan\n",
    "\n",
    "Dari hasil plot, dapat dilihat bahwa pelanggan telah kita bagi menjadi 5 kluster, yaitu:\n",
    "1. Cluster 1 = Pendapatan tinggi, pengeluaran rendah\n",
    "2. Cluster 2 = Pendapatan menengah, pengeluaran menengah\n",
    "3. Cluster 3 = Pendapatan tinggi, pengeluaran tinggi\n",
    "4. Cluster 4 = Pendapatan rendah, pengeluaran tinggi\n",
    "5. Cluster 5 = Pendapatan rendah, pengeluaran rendah."
   ]
  },
  {
   "cell_type": "markdown",
   "metadata": {},
   "source": [
    "## Alternatif: Menggunakan Variabel Age dalam Pembuatan Model"
   ]
  },
  {
   "cell_type": "code",
   "execution_count": 51,
   "metadata": {},
   "outputs": [],
   "source": [
    "# Apply the K-Means Model to the Data\n",
    "kmeans_alt = KMeans(n_clusters=6, init='k-means++', max_iter=300, n_init=10, random_state=0)\n",
    "cluster_alt = kmeans_alt.fit_predict(X3)\n",
    "labels_alt = kmeans_alt.labels_\n",
    "centroids_alt = kmeans_alt.cluster_centers_"
   ]
  },
  {
   "cell_type": "code",
   "execution_count": 52,
   "metadata": {},
   "outputs": [
    {
     "data": {
      "application/vnd.plotly.v1+json": {
       "config": {
        "linkText": "Export to plot.ly",
        "plotlyServerURL": "https://plot.ly",
        "showLink": false
       },
       "data": [
        {
         "marker": {
          "color": [
           5,
           5,
           4,
           5,
           4,
           5,
           4,
           5,
           4,
           5,
           4,
           5,
           4,
           5,
           4,
           5,
           4,
           5,
           4,
           5,
           4,
           5,
           4,
           5,
           4,
           5,
           4,
           5,
           4,
           5,
           4,
           5,
           4,
           5,
           4,
           5,
           4,
           5,
           4,
           5,
           1,
           5,
           4,
           0,
           4,
           5,
           1,
           0,
           0,
           0,
           1,
           0,
           0,
           1,
           1,
           1,
           1,
           1,
           0,
           1,
           1,
           0,
           1,
           1,
           1,
           0,
           1,
           1,
           0,
           0,
           1,
           1,
           1,
           1,
           1,
           0,
           1,
           0,
           0,
           1,
           1,
           0,
           1,
           1,
           0,
           1,
           1,
           0,
           0,
           1,
           1,
           0,
           1,
           0,
           0,
           0,
           1,
           0,
           1,
           0,
           0,
           1,
           1,
           0,
           1,
           0,
           1,
           1,
           1,
           1,
           1,
           0,
           0,
           0,
           0,
           0,
           1,
           1,
           1,
           1,
           0,
           0,
           0,
           2,
           0,
           2,
           3,
           2,
           3,
           2,
           3,
           2,
           0,
           2,
           3,
           2,
           3,
           2,
           3,
           2,
           3,
           2,
           0,
           2,
           3,
           2,
           3,
           2,
           3,
           2,
           3,
           2,
           3,
           2,
           3,
           2,
           3,
           2,
           3,
           2,
           1,
           2,
           3,
           2,
           3,
           2,
           3,
           2,
           3,
           2,
           3,
           2,
           3,
           2,
           3,
           2,
           3,
           2,
           3,
           2,
           3,
           2,
           3,
           2,
           3,
           2,
           3,
           2,
           3,
           2,
           3,
           2,
           3,
           2,
           3,
           2,
           3,
           2,
           3,
           2
          ],
          "line": {
           "color": [
            5,
            5,
            4,
            5,
            4,
            5,
            4,
            5,
            4,
            5,
            4,
            5,
            4,
            5,
            4,
            5,
            4,
            5,
            4,
            5,
            4,
            5,
            4,
            5,
            4,
            5,
            4,
            5,
            4,
            5,
            4,
            5,
            4,
            5,
            4,
            5,
            4,
            5,
            4,
            5,
            1,
            5,
            4,
            0,
            4,
            5,
            1,
            0,
            0,
            0,
            1,
            0,
            0,
            1,
            1,
            1,
            1,
            1,
            0,
            1,
            1,
            0,
            1,
            1,
            1,
            0,
            1,
            1,
            0,
            0,
            1,
            1,
            1,
            1,
            1,
            0,
            1,
            0,
            0,
            1,
            1,
            0,
            1,
            1,
            0,
            1,
            1,
            0,
            0,
            1,
            1,
            0,
            1,
            0,
            0,
            0,
            1,
            0,
            1,
            0,
            0,
            1,
            1,
            0,
            1,
            0,
            1,
            1,
            1,
            1,
            1,
            0,
            0,
            0,
            0,
            0,
            1,
            1,
            1,
            1,
            0,
            0,
            0,
            2,
            0,
            2,
            3,
            2,
            3,
            2,
            3,
            2,
            0,
            2,
            3,
            2,
            3,
            2,
            3,
            2,
            3,
            2,
            0,
            2,
            3,
            2,
            3,
            2,
            3,
            2,
            3,
            2,
            3,
            2,
            3,
            2,
            3,
            2,
            3,
            2,
            1,
            2,
            3,
            2,
            3,
            2,
            3,
            2,
            3,
            2,
            3,
            2,
            3,
            2,
            3,
            2,
            3,
            2,
            3,
            2,
            3,
            2,
            3,
            2,
            3,
            2,
            3,
            2,
            3,
            2,
            3,
            2,
            3,
            2,
            3,
            2,
            3,
            2,
            3,
            2
           ],
           "width": 12
          },
          "opacity": 0.8,
          "size": 20
         },
         "mode": "markers",
         "type": "scatter3d",
         "x": [
          -1.4245687900521393,
          -1.2810354107017978,
          -1.3528021003769686,
          -1.1375020313514563,
          -0.5633685139500905,
          -1.209268721026627,
          -0.2763017552494075,
          -1.1375020313514563,
          1.804932245330544,
          -0.6351352036252612,
          2.0202323143560563,
          -0.2763017552494075,
          1.3743321072795196,
          -1.0657353416762856,
          -0.13276837589906598,
          -1.209268721026627,
          -0.2763017552494075,
          -1.3528021003769686,
          0.9437319692284951,
          -0.2763017552494075,
          -0.2763017552494075,
          -0.9939686520011148,
          0.5131318311774707,
          -0.5633685139500905,
          1.0872653485788366,
          -0.706901893300432,
          0.44136514150229994,
          -0.2763017552494075,
          0.08253169312644625,
          -1.1375020313514563,
          1.517865486629861,
          -1.2810354107017978,
          1.0154986589036659,
          -1.49633547972731,
          0.728431900202983,
          -1.2810354107017978,
          0.22606507247678773,
          -0.6351352036252612,
          -0.20453506557423673,
          -1.3528021003769686,
          1.8766989350057148,
          -1.0657353416762856,
          0.6566652105278122,
          -0.5633685139500905,
          0.728431900202983,
          -1.0657353416762856,
          0.8001985898781537,
          -0.8504352726507735,
          -0.706901893300432,
          -0.5633685139500905,
          0.728431900202983,
          -0.41983513459974897,
          -0.5633685139500905,
          1.4460987969546903,
          0.8001985898781537,
          0.5848985208526415,
          0.8719652795533244,
          2.163765693706398,
          -0.8504352726507735,
          1.0154986589036659,
          2.2355323833815683,
          -1.4245687900521393,
          2.0202323143560563,
          1.0872653485788366,
          1.7331655556553733,
          -1.49633547972731,
          0.2978317621519585,
          2.091999004031227,
          -1.4245687900521393,
          -0.49160182427491966,
          2.2355323833815683,
          0.5848985208526415,
          1.517865486629861,
          1.517865486629861,
          1.4460987969546903,
          -0.9222019623259441,
          0.44136514150229994,
          0.08253169312644625,
          -1.1375020313514563,
          0.728431900202983,
          1.3025654176043489,
          -0.061001686223895235,
          2.0202323143560563,
          0.5131318311774707,
          -1.2810354107017978,
          0.6566652105278122,
          1.1590320382540074,
          -1.209268721026627,
          -0.3480684449245782,
          0.8001985898781537,
          2.091999004031227,
          -1.49633547972731,
          0.6566652105278122,
          0.08253169312644625,
          -0.49160182427491966,
          -1.0657353416762856,
          0.5848985208526415,
          -0.8504352726507735,
          0.6566652105278122,
          -1.3528021003769686,
          -1.1375020313514563,
          0.728431900202983,
          2.0202323143560563,
          -0.9222019623259441,
          0.728431900202983,
          -1.2810354107017978,
          1.9484656246808856,
          1.0872653485788366,
          2.091999004031227,
          1.9484656246808856,
          1.8766989350057148,
          -1.4245687900521393,
          -0.061001686223895235,
          -1.4245687900521393,
          -1.49633547972731,
          -1.4245687900521393,
          1.7331655556553733,
          0.728431900202983,
          0.8719652795533244,
          0.8001985898781537,
          -0.8504352726507735,
          -0.061001686223895235,
          0.08253169312644625,
          0.010765003451275509,
          -1.1375020313514563,
          -0.5633685139500905,
          0.2978317621519585,
          0.08253169312644625,
          1.4460987969546903,
          -0.061001686223895235,
          0.5848985208526415,
          0.010765003451275509,
          -0.9939686520011148,
          -0.5633685139500905,
          -1.3528021003769686,
          -0.706901893300432,
          0.36959845182712925,
          -0.49160182427491966,
          -1.4245687900521393,
          -0.2763017552494075,
          1.3025654176043489,
          -0.49160182427491966,
          -0.7786685829756027,
          -0.49160182427491966,
          -0.9939686520011148,
          -0.7786685829756027,
          0.6566652105278122,
          -0.49160182427491966,
          -0.3480684449245782,
          -0.3480684449245782,
          0.2978317621519585,
          0.010765003451275509,
          0.36959845182712925,
          -0.061001686223895235,
          0.5848985208526415,
          -0.8504352726507735,
          -0.13276837589906598,
          -0.6351352036252612,
          -0.3480684449245782,
          -0.6351352036252612,
          1.230798727929178,
          -0.706901893300432,
          -1.4245687900521393,
          -0.5633685139500905,
          0.8001985898781537,
          -0.20453506557423673,
          0.22606507247678773,
          -0.41983513459974897,
          -0.20453506557423673,
          -0.49160182427491966,
          0.08253169312644625,
          -0.7786685829756027,
          -0.20453506557423673,
          -0.20453506557423673,
          0.9437319692284951,
          -0.6351352036252612,
          1.3743321072795196,
          -0.8504352726507735,
          1.4460987969546903,
          -0.2763017552494075,
          -0.13276837589906598,
          -0.49160182427491966,
          0.5131318311774707,
          -0.706901893300432,
          0.154298382801617,
          -0.6351352036252612,
          1.0872653485788366,
          -0.7786685829756027,
          0.154298382801617,
          -0.20453506557423673,
          -0.3480684449245782,
          -0.49160182427491966,
          -0.41983513459974897,
          -0.061001686223895235,
          0.5848985208526415,
          -0.2763017552494075,
          0.44136514150229994,
          -0.49160182427491966,
          -0.49160182427491966,
          -0.6351352036252612
         ],
         "y": [
          -0.43480147996914814,
          1.195704069915157,
          -1.7159129834496736,
          1.0404178270690327,
          -0.3959799192576171,
          1.0015962663575015,
          -1.7159129834496736,
          1.700384359165061,
          -1.832377665584267,
          0.8463100235113773,
          -1.405340497757425,
          1.8944921627227165,
          -1.3665189370458939,
          1.0404178270690327,
          -1.444162058468956,
          1.118060948492095,
          -0.5900877228152724,
          0.6133806592421909,
          -0.823017087084459,
          1.8556706020111853,
          -0.5900877228152724,
          0.8851315842229084,
          -1.7547345441612048,
          0.8851315842229084,
          -1.405340497757425,
          1.234525630626688,
          -0.7065524049498657,
          0.4192728556845355,
          -0.7453739656613968,
          1.4286334341843434,
          -1.7935561048727358,
          0.8851315842229084,
          -1.7935561048727358,
          1.622741237741999,
          -1.405340497757425,
          1.195704069915157,
          -1.288875815622832,
          0.8851315842229084,
          -0.9394817692190521,
          0.9627747056459706,
          -0.5900877228152724,
          1.622741237741999,
          -0.5512661621037414,
          0.4192728556845355,
          -0.86183864779599,
          0.5745590985306598,
          0.18634349141534906,
          -0.12422899427689955,
          -0.31833679783455493,
          -0.31833679783455493,
          0.06987880928075582,
          0.38045129497300445,
          0.14752193070381797,
          0.38045129497300445,
          -0.20187211569996172,
          -0.357158358546086,
          -0.007764312142306325,
          -0.16305055498843063,
          0.03105724856922475,
          -0.16305055498843063,
          0.22516505212688012,
          0.18634349141534906,
          0.06987880928075582,
          0.34162973426147336,
          0.03105724856922475,
          0.34162973426147336,
          -0.007764312142306325,
          -0.08540743356536848,
          0.34162973426147336,
          -0.12422899427689955,
          0.18634349141534906,
          -0.31833679783455493,
          -0.046585872853837404,
          0.22516505212688012,
          -0.12422899427689955,
          0.14752193070381797,
          0.1087003699922869,
          -0.08540743356536848,
          0.06987880928075582,
          -0.31833679783455493,
          0.03105724856922475,
          0.18634349141534906,
          -0.357158358546086,
          -0.24069367641149278,
          0.2639866128384112,
          -0.16305055498843063,
          0.30280817354994227,
          0.18634349141534906,
          0.38045129497300445,
          -0.16305055498843063,
          0.18634349141534906,
          -0.357158358546086,
          -0.046585872853837404,
          -0.3959799192576171,
          -0.31833679783455493,
          0.06987880928075582,
          -0.12422899427689955,
          -0.007764312142306325,
          -0.31833679783455493,
          -0.046585872853837404,
          -0.357158358546086,
          -0.08540743356536848,
          0.34162973426147336,
          0.18634349141534906,
          0.22516505212688012,
          -0.31833679783455493,
          -0.007764312142306325,
          -0.16305055498843063,
          -0.27951523712302384,
          -0.08540743356536848,
          0.06987880928075582,
          0.14752193070381797,
          -0.31833679783455493,
          -0.16305055498843063,
          -0.08540743356536848,
          -0.007764312142306325,
          -0.27951523712302384,
          0.34162973426147336,
          -0.27951523712302384,
          0.2639866128384112,
          0.22516505212688012,
          -0.3959799192576171,
          0.30280817354994227,
          1.5839196770304678,
          -0.823017087084459,
          1.0404178270690327,
          -0.5900877228152724,
          1.7392059198765921,
          -1.5218051798920182,
          0.9627747056459706,
          -1.5994483013150804,
          0.9627747056459706,
          -0.6289092835268035,
          0.8074884627998463,
          -1.7547345441612048,
          1.4674549948958746,
          -1.6770914227381426,
          0.8851315842229084,
          -1.5606267406035494,
          0.8463100235113773,
          -1.7547345441612048,
          1.66156279845353,
          -0.3959799192576171,
          1.4286334341843434,
          -1.4829836191804873,
          1.8168490412996543,
          -0.5512661621037414,
          0.9239531449344395,
          -1.0947680120651764,
          1.5450981163189368,
          -1.288875815622832,
          1.4674549948958746,
          -1.1724111334882386,
          1.0015962663575015,
          -1.327697376334363,
          1.5062765556074056,
          -1.9100207870073291,
          1.0792393877805637,
          -1.9100207870073291,
          0.8851315842229084,
          -0.5900877228152724,
          1.2733471913382193,
          -1.7547345441612048,
          1.66156279845353,
          -0.9394817692190521,
          0.9627747056459706,
          -1.1724111334882386,
          1.7392059198765921,
          -0.900660208507521,
          0.49691597710759766,
          -1.444162058468956,
          0.9627747056459706,
          -1.5606267406035494,
          1.622741237741999,
          -1.444162058468956,
          1.3898118734728124,
          -1.3665189370458939,
          0.7298453413767841,
          -1.405340497757425,
          1.5450981163189368,
          -0.7065524049498657,
          1.3898118734728124,
          -1.3665189370458939,
          1.4674549948958746,
          -0.43480147996914814,
          1.8168490412996543,
          -1.0171248906421142,
          0.691023780665253,
          -1.288875815622832,
          1.3509903127612812,
          -1.0559464513536454,
          0.7298453413767841,
          -1.6382698620266116,
          1.5839196770304678,
          -1.327697376334363,
          1.118060948492095,
          -0.86183864779599,
          0.9239531449344395,
          -1.2500542549113007,
          1.2733471913382193
         ],
         "z": [
          -1.7389991930659485,
          -1.7389991930659485,
          -1.7008297638941763,
          -1.7008297638941763,
          -1.6626603347224038,
          -1.6626603347224038,
          -1.6244909055506316,
          -1.6244909055506316,
          -1.5863214763788591,
          -1.5863214763788591,
          -1.5863214763788591,
          -1.5863214763788591,
          -1.5481520472070869,
          -1.5481520472070869,
          -1.5481520472070869,
          -1.5481520472070869,
          -1.5099826180353144,
          -1.5099826180353144,
          -1.4336437596917697,
          -1.4336437596917697,
          -1.3954743305199975,
          -1.3954743305199975,
          -1.357304901348225,
          -1.357304901348225,
          -1.2427966138329078,
          -1.2427966138329078,
          -1.2427966138329078,
          -1.2427966138329078,
          -1.2046271846611356,
          -1.2046271846611356,
          -1.1664577554893631,
          -1.1664577554893631,
          -1.0519494679740462,
          -1.0519494679740462,
          -1.0519494679740462,
          -1.0519494679740462,
          -1.0137800388022737,
          -1.0137800388022737,
          -0.8992717512869568,
          -0.8992717512869568,
          -0.8611023221151844,
          -0.8611023221151844,
          -0.8229328929434121,
          -0.8229328929434121,
          -0.8229328929434121,
          -0.8229328929434121,
          -0.7847634637716397,
          -0.7847634637716397,
          -0.7847634637716397,
          -0.7847634637716397,
          -0.7084246054280949,
          -0.7084246054280949,
          -0.6702551762563226,
          -0.6702551762563226,
          -0.6702551762563226,
          -0.6702551762563226,
          -0.6320857470845502,
          -0.6320857470845502,
          -0.5557468887410055,
          -0.5557468887410055,
          -0.5557468887410055,
          -0.5557468887410055,
          -0.5175774595692332,
          -0.5175774595692332,
          -0.4794080303974609,
          -0.4794080303974609,
          -0.4794080303974609,
          -0.4794080303974609,
          -0.4794080303974609,
          -0.4794080303974609,
          -0.44123860122568853,
          -0.44123860122568853,
          -0.4030691720539161,
          -0.4030691720539161,
          -0.2503914553668267,
          -0.2503914553668267,
          -0.2503914553668267,
          -0.2503914553668267,
          -0.2503914553668267,
          -0.2503914553668267,
          -0.2503914553668267,
          -0.2503914553668267,
          -0.2503914553668267,
          -0.2503914553668267,
          -0.2503914553668267,
          -0.2503914553668267,
          -0.13588316785150967,
          -0.13588316785150967,
          -0.09771373867973732,
          -0.09771373867973732,
          -0.05954430950796496,
          -0.05954430950796496,
          -0.021374880336192604,
          -0.021374880336192604,
          -0.021374880336192604,
          -0.021374880336192604,
          -0.021374880336192604,
          -0.021374880336192604,
          0.01679454883557975,
          0.01679454883557975,
          0.0549639780073521,
          0.0549639780073521,
          0.0549639780073521,
          0.0549639780073521,
          0.0549639780073521,
          0.0549639780073521,
          0.09313340717912445,
          0.09313340717912445,
          0.09313340717912445,
          0.09313340717912445,
          0.09313340717912445,
          0.09313340717912445,
          0.13130283635089682,
          0.13130283635089682,
          0.16947226552266917,
          0.16947226552266917,
          0.16947226552266917,
          0.16947226552266917,
          0.24581112386621387,
          0.24581112386621387,
          0.24581112386621387,
          0.24581112386621387,
          0.3221499822097586,
          0.3221499822097586,
          0.36031941138153095,
          0.36031941138153095,
          0.3984888405533033,
          0.3984888405533033,
          0.3984888405533033,
          0.3984888405533033,
          0.3984888405533033,
          0.3984888405533033,
          0.43665826972507565,
          0.43665826972507565,
          0.474827698896848,
          0.474827698896848,
          0.474827698896848,
          0.474827698896848,
          0.5129971280686204,
          0.5129971280686204,
          0.5511665572403928,
          0.5511665572403928,
          0.5893359864121651,
          0.5893359864121651,
          0.6275054155839375,
          0.6275054155839375,
          0.6275054155839375,
          0.6275054155839375,
          0.6656748447557098,
          0.6656748447557098,
          0.6656748447557098,
          0.6656748447557098,
          0.6656748447557098,
          0.6656748447557098,
          0.6656748447557098,
          0.6656748447557098,
          0.6656748447557098,
          0.6656748447557098,
          0.6656748447557098,
          0.6656748447557098,
          0.7038442739274822,
          0.7038442739274822,
          0.7801831322710269,
          0.7801831322710269,
          0.9328608489581163,
          0.9328608489581163,
          0.9710302781298886,
          0.9710302781298886,
          1.009199707301661,
          1.009199707301661,
          1.009199707301661,
          1.009199707301661,
          1.009199707301661,
          1.009199707301661,
          1.0473691364734332,
          1.0473691364734332,
          1.0473691364734332,
          1.0473691364734332,
          1.238216282332295,
          1.238216282332295,
          1.3908939990193845,
          1.3908939990193845,
          1.429063428191157,
          1.429063428191157,
          1.4672328573629292,
          1.4672328573629292,
          1.543571715706474,
          1.543571715706474,
          1.6199105740500186,
          1.6199105740500186,
          1.6199105740500186,
          1.6199105740500186,
          2.0016048657677423,
          2.0016048657677423,
          2.2687908699701484,
          2.2687908699701484,
          2.4978074450007828,
          2.4978074450007828,
          2.9176711658902788,
          2.9176711658902788
         ]
        }
       ],
       "layout": {
        "scene": {
         "xaxis": {
          "title": {
           "text": "Age"
          }
         },
         "yaxis": {
          "title": {
           "text": "Spending Score"
          }
         },
         "zaxis": {
          "title": {
           "text": "Annual Income"
          }
         }
        },
        "template": {
         "data": {
          "bar": [
           {
            "error_x": {
             "color": "#2a3f5f"
            },
            "error_y": {
             "color": "#2a3f5f"
            },
            "marker": {
             "line": {
              "color": "#E5ECF6",
              "width": 0.5
             }
            },
            "type": "bar"
           }
          ],
          "barpolar": [
           {
            "marker": {
             "line": {
              "color": "#E5ECF6",
              "width": 0.5
             }
            },
            "type": "barpolar"
           }
          ],
          "carpet": [
           {
            "aaxis": {
             "endlinecolor": "#2a3f5f",
             "gridcolor": "white",
             "linecolor": "white",
             "minorgridcolor": "white",
             "startlinecolor": "#2a3f5f"
            },
            "baxis": {
             "endlinecolor": "#2a3f5f",
             "gridcolor": "white",
             "linecolor": "white",
             "minorgridcolor": "white",
             "startlinecolor": "#2a3f5f"
            },
            "type": "carpet"
           }
          ],
          "choropleth": [
           {
            "colorbar": {
             "outlinewidth": 0,
             "ticks": ""
            },
            "type": "choropleth"
           }
          ],
          "contour": [
           {
            "colorbar": {
             "outlinewidth": 0,
             "ticks": ""
            },
            "colorscale": [
             [
              0,
              "#0d0887"
             ],
             [
              0.1111111111111111,
              "#46039f"
             ],
             [
              0.2222222222222222,
              "#7201a8"
             ],
             [
              0.3333333333333333,
              "#9c179e"
             ],
             [
              0.4444444444444444,
              "#bd3786"
             ],
             [
              0.5555555555555556,
              "#d8576b"
             ],
             [
              0.6666666666666666,
              "#ed7953"
             ],
             [
              0.7777777777777778,
              "#fb9f3a"
             ],
             [
              0.8888888888888888,
              "#fdca26"
             ],
             [
              1,
              "#f0f921"
             ]
            ],
            "type": "contour"
           }
          ],
          "contourcarpet": [
           {
            "colorbar": {
             "outlinewidth": 0,
             "ticks": ""
            },
            "type": "contourcarpet"
           }
          ],
          "heatmap": [
           {
            "colorbar": {
             "outlinewidth": 0,
             "ticks": ""
            },
            "colorscale": [
             [
              0,
              "#0d0887"
             ],
             [
              0.1111111111111111,
              "#46039f"
             ],
             [
              0.2222222222222222,
              "#7201a8"
             ],
             [
              0.3333333333333333,
              "#9c179e"
             ],
             [
              0.4444444444444444,
              "#bd3786"
             ],
             [
              0.5555555555555556,
              "#d8576b"
             ],
             [
              0.6666666666666666,
              "#ed7953"
             ],
             [
              0.7777777777777778,
              "#fb9f3a"
             ],
             [
              0.8888888888888888,
              "#fdca26"
             ],
             [
              1,
              "#f0f921"
             ]
            ],
            "type": "heatmap"
           }
          ],
          "heatmapgl": [
           {
            "colorbar": {
             "outlinewidth": 0,
             "ticks": ""
            },
            "colorscale": [
             [
              0,
              "#0d0887"
             ],
             [
              0.1111111111111111,
              "#46039f"
             ],
             [
              0.2222222222222222,
              "#7201a8"
             ],
             [
              0.3333333333333333,
              "#9c179e"
             ],
             [
              0.4444444444444444,
              "#bd3786"
             ],
             [
              0.5555555555555556,
              "#d8576b"
             ],
             [
              0.6666666666666666,
              "#ed7953"
             ],
             [
              0.7777777777777778,
              "#fb9f3a"
             ],
             [
              0.8888888888888888,
              "#fdca26"
             ],
             [
              1,
              "#f0f921"
             ]
            ],
            "type": "heatmapgl"
           }
          ],
          "histogram": [
           {
            "marker": {
             "colorbar": {
              "outlinewidth": 0,
              "ticks": ""
             }
            },
            "type": "histogram"
           }
          ],
          "histogram2d": [
           {
            "colorbar": {
             "outlinewidth": 0,
             "ticks": ""
            },
            "colorscale": [
             [
              0,
              "#0d0887"
             ],
             [
              0.1111111111111111,
              "#46039f"
             ],
             [
              0.2222222222222222,
              "#7201a8"
             ],
             [
              0.3333333333333333,
              "#9c179e"
             ],
             [
              0.4444444444444444,
              "#bd3786"
             ],
             [
              0.5555555555555556,
              "#d8576b"
             ],
             [
              0.6666666666666666,
              "#ed7953"
             ],
             [
              0.7777777777777778,
              "#fb9f3a"
             ],
             [
              0.8888888888888888,
              "#fdca26"
             ],
             [
              1,
              "#f0f921"
             ]
            ],
            "type": "histogram2d"
           }
          ],
          "histogram2dcontour": [
           {
            "colorbar": {
             "outlinewidth": 0,
             "ticks": ""
            },
            "colorscale": [
             [
              0,
              "#0d0887"
             ],
             [
              0.1111111111111111,
              "#46039f"
             ],
             [
              0.2222222222222222,
              "#7201a8"
             ],
             [
              0.3333333333333333,
              "#9c179e"
             ],
             [
              0.4444444444444444,
              "#bd3786"
             ],
             [
              0.5555555555555556,
              "#d8576b"
             ],
             [
              0.6666666666666666,
              "#ed7953"
             ],
             [
              0.7777777777777778,
              "#fb9f3a"
             ],
             [
              0.8888888888888888,
              "#fdca26"
             ],
             [
              1,
              "#f0f921"
             ]
            ],
            "type": "histogram2dcontour"
           }
          ],
          "mesh3d": [
           {
            "colorbar": {
             "outlinewidth": 0,
             "ticks": ""
            },
            "type": "mesh3d"
           }
          ],
          "parcoords": [
           {
            "line": {
             "colorbar": {
              "outlinewidth": 0,
              "ticks": ""
             }
            },
            "type": "parcoords"
           }
          ],
          "pie": [
           {
            "automargin": true,
            "type": "pie"
           }
          ],
          "scatter": [
           {
            "marker": {
             "colorbar": {
              "outlinewidth": 0,
              "ticks": ""
             }
            },
            "type": "scatter"
           }
          ],
          "scatter3d": [
           {
            "line": {
             "colorbar": {
              "outlinewidth": 0,
              "ticks": ""
             }
            },
            "marker": {
             "colorbar": {
              "outlinewidth": 0,
              "ticks": ""
             }
            },
            "type": "scatter3d"
           }
          ],
          "scattercarpet": [
           {
            "marker": {
             "colorbar": {
              "outlinewidth": 0,
              "ticks": ""
             }
            },
            "type": "scattercarpet"
           }
          ],
          "scattergeo": [
           {
            "marker": {
             "colorbar": {
              "outlinewidth": 0,
              "ticks": ""
             }
            },
            "type": "scattergeo"
           }
          ],
          "scattergl": [
           {
            "marker": {
             "colorbar": {
              "outlinewidth": 0,
              "ticks": ""
             }
            },
            "type": "scattergl"
           }
          ],
          "scattermapbox": [
           {
            "marker": {
             "colorbar": {
              "outlinewidth": 0,
              "ticks": ""
             }
            },
            "type": "scattermapbox"
           }
          ],
          "scatterpolar": [
           {
            "marker": {
             "colorbar": {
              "outlinewidth": 0,
              "ticks": ""
             }
            },
            "type": "scatterpolar"
           }
          ],
          "scatterpolargl": [
           {
            "marker": {
             "colorbar": {
              "outlinewidth": 0,
              "ticks": ""
             }
            },
            "type": "scatterpolargl"
           }
          ],
          "scatterternary": [
           {
            "marker": {
             "colorbar": {
              "outlinewidth": 0,
              "ticks": ""
             }
            },
            "type": "scatterternary"
           }
          ],
          "surface": [
           {
            "colorbar": {
             "outlinewidth": 0,
             "ticks": ""
            },
            "colorscale": [
             [
              0,
              "#0d0887"
             ],
             [
              0.1111111111111111,
              "#46039f"
             ],
             [
              0.2222222222222222,
              "#7201a8"
             ],
             [
              0.3333333333333333,
              "#9c179e"
             ],
             [
              0.4444444444444444,
              "#bd3786"
             ],
             [
              0.5555555555555556,
              "#d8576b"
             ],
             [
              0.6666666666666666,
              "#ed7953"
             ],
             [
              0.7777777777777778,
              "#fb9f3a"
             ],
             [
              0.8888888888888888,
              "#fdca26"
             ],
             [
              1,
              "#f0f921"
             ]
            ],
            "type": "surface"
           }
          ],
          "table": [
           {
            "cells": {
             "fill": {
              "color": "#EBF0F8"
             },
             "line": {
              "color": "white"
             }
            },
            "header": {
             "fill": {
              "color": "#C8D4E3"
             },
             "line": {
              "color": "white"
             }
            },
            "type": "table"
           }
          ]
         },
         "layout": {
          "annotationdefaults": {
           "arrowcolor": "#2a3f5f",
           "arrowhead": 0,
           "arrowwidth": 1
          },
          "coloraxis": {
           "colorbar": {
            "outlinewidth": 0,
            "ticks": ""
           }
          },
          "colorscale": {
           "diverging": [
            [
             0,
             "#8e0152"
            ],
            [
             0.1,
             "#c51b7d"
            ],
            [
             0.2,
             "#de77ae"
            ],
            [
             0.3,
             "#f1b6da"
            ],
            [
             0.4,
             "#fde0ef"
            ],
            [
             0.5,
             "#f7f7f7"
            ],
            [
             0.6,
             "#e6f5d0"
            ],
            [
             0.7,
             "#b8e186"
            ],
            [
             0.8,
             "#7fbc41"
            ],
            [
             0.9,
             "#4d9221"
            ],
            [
             1,
             "#276419"
            ]
           ],
           "sequential": [
            [
             0,
             "#0d0887"
            ],
            [
             0.1111111111111111,
             "#46039f"
            ],
            [
             0.2222222222222222,
             "#7201a8"
            ],
            [
             0.3333333333333333,
             "#9c179e"
            ],
            [
             0.4444444444444444,
             "#bd3786"
            ],
            [
             0.5555555555555556,
             "#d8576b"
            ],
            [
             0.6666666666666666,
             "#ed7953"
            ],
            [
             0.7777777777777778,
             "#fb9f3a"
            ],
            [
             0.8888888888888888,
             "#fdca26"
            ],
            [
             1,
             "#f0f921"
            ]
           ],
           "sequentialminus": [
            [
             0,
             "#0d0887"
            ],
            [
             0.1111111111111111,
             "#46039f"
            ],
            [
             0.2222222222222222,
             "#7201a8"
            ],
            [
             0.3333333333333333,
             "#9c179e"
            ],
            [
             0.4444444444444444,
             "#bd3786"
            ],
            [
             0.5555555555555556,
             "#d8576b"
            ],
            [
             0.6666666666666666,
             "#ed7953"
            ],
            [
             0.7777777777777778,
             "#fb9f3a"
            ],
            [
             0.8888888888888888,
             "#fdca26"
            ],
            [
             1,
             "#f0f921"
            ]
           ]
          },
          "colorway": [
           "#636efa",
           "#EF553B",
           "#00cc96",
           "#ab63fa",
           "#FFA15A",
           "#19d3f3",
           "#FF6692",
           "#B6E880",
           "#FF97FF",
           "#FECB52"
          ],
          "font": {
           "color": "#2a3f5f"
          },
          "geo": {
           "bgcolor": "white",
           "lakecolor": "white",
           "landcolor": "#E5ECF6",
           "showlakes": true,
           "showland": true,
           "subunitcolor": "white"
          },
          "hoverlabel": {
           "align": "left"
          },
          "hovermode": "closest",
          "mapbox": {
           "style": "light"
          },
          "paper_bgcolor": "white",
          "plot_bgcolor": "#E5ECF6",
          "polar": {
           "angularaxis": {
            "gridcolor": "white",
            "linecolor": "white",
            "ticks": ""
           },
           "bgcolor": "#E5ECF6",
           "radialaxis": {
            "gridcolor": "white",
            "linecolor": "white",
            "ticks": ""
           }
          },
          "scene": {
           "xaxis": {
            "backgroundcolor": "#E5ECF6",
            "gridcolor": "white",
            "gridwidth": 2,
            "linecolor": "white",
            "showbackground": true,
            "ticks": "",
            "zerolinecolor": "white"
           },
           "yaxis": {
            "backgroundcolor": "#E5ECF6",
            "gridcolor": "white",
            "gridwidth": 2,
            "linecolor": "white",
            "showbackground": true,
            "ticks": "",
            "zerolinecolor": "white"
           },
           "zaxis": {
            "backgroundcolor": "#E5ECF6",
            "gridcolor": "white",
            "gridwidth": 2,
            "linecolor": "white",
            "showbackground": true,
            "ticks": "",
            "zerolinecolor": "white"
           }
          },
          "shapedefaults": {
           "line": {
            "color": "#2a3f5f"
           }
          },
          "ternary": {
           "aaxis": {
            "gridcolor": "white",
            "linecolor": "white",
            "ticks": ""
           },
           "baxis": {
            "gridcolor": "white",
            "linecolor": "white",
            "ticks": ""
           },
           "bgcolor": "#E5ECF6",
           "caxis": {
            "gridcolor": "white",
            "linecolor": "white",
            "ticks": ""
           }
          },
          "title": {
           "x": 0.05
          },
          "xaxis": {
           "automargin": true,
           "gridcolor": "white",
           "linecolor": "white",
           "ticks": "",
           "title": {
            "standoff": 15
           },
           "zerolinecolor": "white",
           "zerolinewidth": 2
          },
          "yaxis": {
           "automargin": true,
           "gridcolor": "white",
           "linecolor": "white",
           "ticks": "",
           "title": {
            "standoff": 15
           },
           "zerolinecolor": "white",
           "zerolinewidth": 2
          }
         }
        },
        "title": {
         "text": "Cluster 3 Variabel"
        }
       }
      },
      "text/html": [
       "<div>                            <div id=\"d1523135-aafc-4059-9af4-175a91daa102\" class=\"plotly-graph-div\" style=\"height:525px; width:100%;\"></div>            <script type=\"text/javascript\">                require([\"plotly\"], function(Plotly) {                    window.PLOTLYENV=window.PLOTLYENV || {};                                    if (document.getElementById(\"d1523135-aafc-4059-9af4-175a91daa102\")) {                    Plotly.newPlot(                        \"d1523135-aafc-4059-9af4-175a91daa102\",                        [{\"marker\": {\"color\": [5, 5, 4, 5, 4, 5, 4, 5, 4, 5, 4, 5, 4, 5, 4, 5, 4, 5, 4, 5, 4, 5, 4, 5, 4, 5, 4, 5, 4, 5, 4, 5, 4, 5, 4, 5, 4, 5, 4, 5, 1, 5, 4, 0, 4, 5, 1, 0, 0, 0, 1, 0, 0, 1, 1, 1, 1, 1, 0, 1, 1, 0, 1, 1, 1, 0, 1, 1, 0, 0, 1, 1, 1, 1, 1, 0, 1, 0, 0, 1, 1, 0, 1, 1, 0, 1, 1, 0, 0, 1, 1, 0, 1, 0, 0, 0, 1, 0, 1, 0, 0, 1, 1, 0, 1, 0, 1, 1, 1, 1, 1, 0, 0, 0, 0, 0, 1, 1, 1, 1, 0, 0, 0, 2, 0, 2, 3, 2, 3, 2, 3, 2, 0, 2, 3, 2, 3, 2, 3, 2, 3, 2, 0, 2, 3, 2, 3, 2, 3, 2, 3, 2, 3, 2, 3, 2, 3, 2, 3, 2, 1, 2, 3, 2, 3, 2, 3, 2, 3, 2, 3, 2, 3, 2, 3, 2, 3, 2, 3, 2, 3, 2, 3, 2, 3, 2, 3, 2, 3, 2, 3, 2, 3, 2, 3, 2, 3, 2, 3, 2], \"line\": {\"color\": [5, 5, 4, 5, 4, 5, 4, 5, 4, 5, 4, 5, 4, 5, 4, 5, 4, 5, 4, 5, 4, 5, 4, 5, 4, 5, 4, 5, 4, 5, 4, 5, 4, 5, 4, 5, 4, 5, 4, 5, 1, 5, 4, 0, 4, 5, 1, 0, 0, 0, 1, 0, 0, 1, 1, 1, 1, 1, 0, 1, 1, 0, 1, 1, 1, 0, 1, 1, 0, 0, 1, 1, 1, 1, 1, 0, 1, 0, 0, 1, 1, 0, 1, 1, 0, 1, 1, 0, 0, 1, 1, 0, 1, 0, 0, 0, 1, 0, 1, 0, 0, 1, 1, 0, 1, 0, 1, 1, 1, 1, 1, 0, 0, 0, 0, 0, 1, 1, 1, 1, 0, 0, 0, 2, 0, 2, 3, 2, 3, 2, 3, 2, 0, 2, 3, 2, 3, 2, 3, 2, 3, 2, 0, 2, 3, 2, 3, 2, 3, 2, 3, 2, 3, 2, 3, 2, 3, 2, 3, 2, 1, 2, 3, 2, 3, 2, 3, 2, 3, 2, 3, 2, 3, 2, 3, 2, 3, 2, 3, 2, 3, 2, 3, 2, 3, 2, 3, 2, 3, 2, 3, 2, 3, 2, 3, 2, 3, 2, 3, 2], \"width\": 12}, \"opacity\": 0.8, \"size\": 20}, \"mode\": \"markers\", \"type\": \"scatter3d\", \"x\": [-1.4245687900521393, -1.2810354107017978, -1.3528021003769686, -1.1375020313514563, -0.5633685139500905, -1.209268721026627, -0.2763017552494075, -1.1375020313514563, 1.804932245330544, -0.6351352036252612, 2.0202323143560563, -0.2763017552494075, 1.3743321072795196, -1.0657353416762856, -0.13276837589906598, -1.209268721026627, -0.2763017552494075, -1.3528021003769686, 0.9437319692284951, -0.2763017552494075, -0.2763017552494075, -0.9939686520011148, 0.5131318311774707, -0.5633685139500905, 1.0872653485788366, -0.706901893300432, 0.44136514150229994, -0.2763017552494075, 0.08253169312644625, -1.1375020313514563, 1.517865486629861, -1.2810354107017978, 1.0154986589036659, -1.49633547972731, 0.728431900202983, -1.2810354107017978, 0.22606507247678773, -0.6351352036252612, -0.20453506557423673, -1.3528021003769686, 1.8766989350057148, -1.0657353416762856, 0.6566652105278122, -0.5633685139500905, 0.728431900202983, -1.0657353416762856, 0.8001985898781537, -0.8504352726507735, -0.706901893300432, -0.5633685139500905, 0.728431900202983, -0.41983513459974897, -0.5633685139500905, 1.4460987969546903, 0.8001985898781537, 0.5848985208526415, 0.8719652795533244, 2.163765693706398, -0.8504352726507735, 1.0154986589036659, 2.2355323833815683, -1.4245687900521393, 2.0202323143560563, 1.0872653485788366, 1.7331655556553733, -1.49633547972731, 0.2978317621519585, 2.091999004031227, -1.4245687900521393, -0.49160182427491966, 2.2355323833815683, 0.5848985208526415, 1.517865486629861, 1.517865486629861, 1.4460987969546903, -0.9222019623259441, 0.44136514150229994, 0.08253169312644625, -1.1375020313514563, 0.728431900202983, 1.3025654176043489, -0.061001686223895235, 2.0202323143560563, 0.5131318311774707, -1.2810354107017978, 0.6566652105278122, 1.1590320382540074, -1.209268721026627, -0.3480684449245782, 0.8001985898781537, 2.091999004031227, -1.49633547972731, 0.6566652105278122, 0.08253169312644625, -0.49160182427491966, -1.0657353416762856, 0.5848985208526415, -0.8504352726507735, 0.6566652105278122, -1.3528021003769686, -1.1375020313514563, 0.728431900202983, 2.0202323143560563, -0.9222019623259441, 0.728431900202983, -1.2810354107017978, 1.9484656246808856, 1.0872653485788366, 2.091999004031227, 1.9484656246808856, 1.8766989350057148, -1.4245687900521393, -0.061001686223895235, -1.4245687900521393, -1.49633547972731, -1.4245687900521393, 1.7331655556553733, 0.728431900202983, 0.8719652795533244, 0.8001985898781537, -0.8504352726507735, -0.061001686223895235, 0.08253169312644625, 0.010765003451275509, -1.1375020313514563, -0.5633685139500905, 0.2978317621519585, 0.08253169312644625, 1.4460987969546903, -0.061001686223895235, 0.5848985208526415, 0.010765003451275509, -0.9939686520011148, -0.5633685139500905, -1.3528021003769686, -0.706901893300432, 0.36959845182712925, -0.49160182427491966, -1.4245687900521393, -0.2763017552494075, 1.3025654176043489, -0.49160182427491966, -0.7786685829756027, -0.49160182427491966, -0.9939686520011148, -0.7786685829756027, 0.6566652105278122, -0.49160182427491966, -0.3480684449245782, -0.3480684449245782, 0.2978317621519585, 0.010765003451275509, 0.36959845182712925, -0.061001686223895235, 0.5848985208526415, -0.8504352726507735, -0.13276837589906598, -0.6351352036252612, -0.3480684449245782, -0.6351352036252612, 1.230798727929178, -0.706901893300432, -1.4245687900521393, -0.5633685139500905, 0.8001985898781537, -0.20453506557423673, 0.22606507247678773, -0.41983513459974897, -0.20453506557423673, -0.49160182427491966, 0.08253169312644625, -0.7786685829756027, -0.20453506557423673, -0.20453506557423673, 0.9437319692284951, -0.6351352036252612, 1.3743321072795196, -0.8504352726507735, 1.4460987969546903, -0.2763017552494075, -0.13276837589906598, -0.49160182427491966, 0.5131318311774707, -0.706901893300432, 0.154298382801617, -0.6351352036252612, 1.0872653485788366, -0.7786685829756027, 0.154298382801617, -0.20453506557423673, -0.3480684449245782, -0.49160182427491966, -0.41983513459974897, -0.061001686223895235, 0.5848985208526415, -0.2763017552494075, 0.44136514150229994, -0.49160182427491966, -0.49160182427491966, -0.6351352036252612], \"y\": [-0.43480147996914814, 1.195704069915157, -1.7159129834496736, 1.0404178270690327, -0.3959799192576171, 1.0015962663575015, -1.7159129834496736, 1.700384359165061, -1.832377665584267, 0.8463100235113773, -1.405340497757425, 1.8944921627227165, -1.3665189370458939, 1.0404178270690327, -1.444162058468956, 1.118060948492095, -0.5900877228152724, 0.6133806592421909, -0.823017087084459, 1.8556706020111853, -0.5900877228152724, 0.8851315842229084, -1.7547345441612048, 0.8851315842229084, -1.405340497757425, 1.234525630626688, -0.7065524049498657, 0.4192728556845355, -0.7453739656613968, 1.4286334341843434, -1.7935561048727358, 0.8851315842229084, -1.7935561048727358, 1.622741237741999, -1.405340497757425, 1.195704069915157, -1.288875815622832, 0.8851315842229084, -0.9394817692190521, 0.9627747056459706, -0.5900877228152724, 1.622741237741999, -0.5512661621037414, 0.4192728556845355, -0.86183864779599, 0.5745590985306598, 0.18634349141534906, -0.12422899427689955, -0.31833679783455493, -0.31833679783455493, 0.06987880928075582, 0.38045129497300445, 0.14752193070381797, 0.38045129497300445, -0.20187211569996172, -0.357158358546086, -0.007764312142306325, -0.16305055498843063, 0.03105724856922475, -0.16305055498843063, 0.22516505212688012, 0.18634349141534906, 0.06987880928075582, 0.34162973426147336, 0.03105724856922475, 0.34162973426147336, -0.007764312142306325, -0.08540743356536848, 0.34162973426147336, -0.12422899427689955, 0.18634349141534906, -0.31833679783455493, -0.046585872853837404, 0.22516505212688012, -0.12422899427689955, 0.14752193070381797, 0.1087003699922869, -0.08540743356536848, 0.06987880928075582, -0.31833679783455493, 0.03105724856922475, 0.18634349141534906, -0.357158358546086, -0.24069367641149278, 0.2639866128384112, -0.16305055498843063, 0.30280817354994227, 0.18634349141534906, 0.38045129497300445, -0.16305055498843063, 0.18634349141534906, -0.357158358546086, -0.046585872853837404, -0.3959799192576171, -0.31833679783455493, 0.06987880928075582, -0.12422899427689955, -0.007764312142306325, -0.31833679783455493, -0.046585872853837404, -0.357158358546086, -0.08540743356536848, 0.34162973426147336, 0.18634349141534906, 0.22516505212688012, -0.31833679783455493, -0.007764312142306325, -0.16305055498843063, -0.27951523712302384, -0.08540743356536848, 0.06987880928075582, 0.14752193070381797, -0.31833679783455493, -0.16305055498843063, -0.08540743356536848, -0.007764312142306325, -0.27951523712302384, 0.34162973426147336, -0.27951523712302384, 0.2639866128384112, 0.22516505212688012, -0.3959799192576171, 0.30280817354994227, 1.5839196770304678, -0.823017087084459, 1.0404178270690327, -0.5900877228152724, 1.7392059198765921, -1.5218051798920182, 0.9627747056459706, -1.5994483013150804, 0.9627747056459706, -0.6289092835268035, 0.8074884627998463, -1.7547345441612048, 1.4674549948958746, -1.6770914227381426, 0.8851315842229084, -1.5606267406035494, 0.8463100235113773, -1.7547345441612048, 1.66156279845353, -0.3959799192576171, 1.4286334341843434, -1.4829836191804873, 1.8168490412996543, -0.5512661621037414, 0.9239531449344395, -1.0947680120651764, 1.5450981163189368, -1.288875815622832, 1.4674549948958746, -1.1724111334882386, 1.0015962663575015, -1.327697376334363, 1.5062765556074056, -1.9100207870073291, 1.0792393877805637, -1.9100207870073291, 0.8851315842229084, -0.5900877228152724, 1.2733471913382193, -1.7547345441612048, 1.66156279845353, -0.9394817692190521, 0.9627747056459706, -1.1724111334882386, 1.7392059198765921, -0.900660208507521, 0.49691597710759766, -1.444162058468956, 0.9627747056459706, -1.5606267406035494, 1.622741237741999, -1.444162058468956, 1.3898118734728124, -1.3665189370458939, 0.7298453413767841, -1.405340497757425, 1.5450981163189368, -0.7065524049498657, 1.3898118734728124, -1.3665189370458939, 1.4674549948958746, -0.43480147996914814, 1.8168490412996543, -1.0171248906421142, 0.691023780665253, -1.288875815622832, 1.3509903127612812, -1.0559464513536454, 0.7298453413767841, -1.6382698620266116, 1.5839196770304678, -1.327697376334363, 1.118060948492095, -0.86183864779599, 0.9239531449344395, -1.2500542549113007, 1.2733471913382193], \"z\": [-1.7389991930659485, -1.7389991930659485, -1.7008297638941763, -1.7008297638941763, -1.6626603347224038, -1.6626603347224038, -1.6244909055506316, -1.6244909055506316, -1.5863214763788591, -1.5863214763788591, -1.5863214763788591, -1.5863214763788591, -1.5481520472070869, -1.5481520472070869, -1.5481520472070869, -1.5481520472070869, -1.5099826180353144, -1.5099826180353144, -1.4336437596917697, -1.4336437596917697, -1.3954743305199975, -1.3954743305199975, -1.357304901348225, -1.357304901348225, -1.2427966138329078, -1.2427966138329078, -1.2427966138329078, -1.2427966138329078, -1.2046271846611356, -1.2046271846611356, -1.1664577554893631, -1.1664577554893631, -1.0519494679740462, -1.0519494679740462, -1.0519494679740462, -1.0519494679740462, -1.0137800388022737, -1.0137800388022737, -0.8992717512869568, -0.8992717512869568, -0.8611023221151844, -0.8611023221151844, -0.8229328929434121, -0.8229328929434121, -0.8229328929434121, -0.8229328929434121, -0.7847634637716397, -0.7847634637716397, -0.7847634637716397, -0.7847634637716397, -0.7084246054280949, -0.7084246054280949, -0.6702551762563226, -0.6702551762563226, -0.6702551762563226, -0.6702551762563226, -0.6320857470845502, -0.6320857470845502, -0.5557468887410055, -0.5557468887410055, -0.5557468887410055, -0.5557468887410055, -0.5175774595692332, -0.5175774595692332, -0.4794080303974609, -0.4794080303974609, -0.4794080303974609, -0.4794080303974609, -0.4794080303974609, -0.4794080303974609, -0.44123860122568853, -0.44123860122568853, -0.4030691720539161, -0.4030691720539161, -0.2503914553668267, -0.2503914553668267, -0.2503914553668267, -0.2503914553668267, -0.2503914553668267, -0.2503914553668267, -0.2503914553668267, -0.2503914553668267, -0.2503914553668267, -0.2503914553668267, -0.2503914553668267, -0.2503914553668267, -0.13588316785150967, -0.13588316785150967, -0.09771373867973732, -0.09771373867973732, -0.05954430950796496, -0.05954430950796496, -0.021374880336192604, -0.021374880336192604, -0.021374880336192604, -0.021374880336192604, -0.021374880336192604, -0.021374880336192604, 0.01679454883557975, 0.01679454883557975, 0.0549639780073521, 0.0549639780073521, 0.0549639780073521, 0.0549639780073521, 0.0549639780073521, 0.0549639780073521, 0.09313340717912445, 0.09313340717912445, 0.09313340717912445, 0.09313340717912445, 0.09313340717912445, 0.09313340717912445, 0.13130283635089682, 0.13130283635089682, 0.16947226552266917, 0.16947226552266917, 0.16947226552266917, 0.16947226552266917, 0.24581112386621387, 0.24581112386621387, 0.24581112386621387, 0.24581112386621387, 0.3221499822097586, 0.3221499822097586, 0.36031941138153095, 0.36031941138153095, 0.3984888405533033, 0.3984888405533033, 0.3984888405533033, 0.3984888405533033, 0.3984888405533033, 0.3984888405533033, 0.43665826972507565, 0.43665826972507565, 0.474827698896848, 0.474827698896848, 0.474827698896848, 0.474827698896848, 0.5129971280686204, 0.5129971280686204, 0.5511665572403928, 0.5511665572403928, 0.5893359864121651, 0.5893359864121651, 0.6275054155839375, 0.6275054155839375, 0.6275054155839375, 0.6275054155839375, 0.6656748447557098, 0.6656748447557098, 0.6656748447557098, 0.6656748447557098, 0.6656748447557098, 0.6656748447557098, 0.6656748447557098, 0.6656748447557098, 0.6656748447557098, 0.6656748447557098, 0.6656748447557098, 0.6656748447557098, 0.7038442739274822, 0.7038442739274822, 0.7801831322710269, 0.7801831322710269, 0.9328608489581163, 0.9328608489581163, 0.9710302781298886, 0.9710302781298886, 1.009199707301661, 1.009199707301661, 1.009199707301661, 1.009199707301661, 1.009199707301661, 1.009199707301661, 1.0473691364734332, 1.0473691364734332, 1.0473691364734332, 1.0473691364734332, 1.238216282332295, 1.238216282332295, 1.3908939990193845, 1.3908939990193845, 1.429063428191157, 1.429063428191157, 1.4672328573629292, 1.4672328573629292, 1.543571715706474, 1.543571715706474, 1.6199105740500186, 1.6199105740500186, 1.6199105740500186, 1.6199105740500186, 2.0016048657677423, 2.0016048657677423, 2.2687908699701484, 2.2687908699701484, 2.4978074450007828, 2.4978074450007828, 2.9176711658902788, 2.9176711658902788]}],                        {\"scene\": {\"xaxis\": {\"title\": {\"text\": \"Age\"}}, \"yaxis\": {\"title\": {\"text\": \"Spending Score\"}}, \"zaxis\": {\"title\": {\"text\": \"Annual Income\"}}}, \"template\": {\"data\": {\"bar\": [{\"error_x\": {\"color\": \"#2a3f5f\"}, \"error_y\": {\"color\": \"#2a3f5f\"}, \"marker\": {\"line\": {\"color\": \"#E5ECF6\", \"width\": 0.5}}, \"type\": \"bar\"}], \"barpolar\": [{\"marker\": {\"line\": {\"color\": \"#E5ECF6\", \"width\": 0.5}}, \"type\": \"barpolar\"}], \"carpet\": [{\"aaxis\": {\"endlinecolor\": \"#2a3f5f\", \"gridcolor\": \"white\", \"linecolor\": \"white\", \"minorgridcolor\": \"white\", \"startlinecolor\": \"#2a3f5f\"}, \"baxis\": {\"endlinecolor\": \"#2a3f5f\", \"gridcolor\": \"white\", \"linecolor\": \"white\", \"minorgridcolor\": \"white\", \"startlinecolor\": \"#2a3f5f\"}, \"type\": \"carpet\"}], \"choropleth\": [{\"colorbar\": {\"outlinewidth\": 0, \"ticks\": \"\"}, \"type\": \"choropleth\"}], \"contour\": [{\"colorbar\": {\"outlinewidth\": 0, \"ticks\": \"\"}, \"colorscale\": [[0.0, \"#0d0887\"], [0.1111111111111111, \"#46039f\"], [0.2222222222222222, \"#7201a8\"], [0.3333333333333333, \"#9c179e\"], [0.4444444444444444, \"#bd3786\"], [0.5555555555555556, \"#d8576b\"], [0.6666666666666666, \"#ed7953\"], [0.7777777777777778, \"#fb9f3a\"], [0.8888888888888888, \"#fdca26\"], [1.0, \"#f0f921\"]], \"type\": \"contour\"}], \"contourcarpet\": [{\"colorbar\": {\"outlinewidth\": 0, \"ticks\": \"\"}, \"type\": \"contourcarpet\"}], \"heatmap\": [{\"colorbar\": {\"outlinewidth\": 0, \"ticks\": \"\"}, \"colorscale\": [[0.0, \"#0d0887\"], [0.1111111111111111, \"#46039f\"], [0.2222222222222222, \"#7201a8\"], [0.3333333333333333, \"#9c179e\"], [0.4444444444444444, \"#bd3786\"], [0.5555555555555556, \"#d8576b\"], [0.6666666666666666, \"#ed7953\"], [0.7777777777777778, \"#fb9f3a\"], [0.8888888888888888, \"#fdca26\"], [1.0, \"#f0f921\"]], \"type\": \"heatmap\"}], \"heatmapgl\": [{\"colorbar\": {\"outlinewidth\": 0, \"ticks\": \"\"}, \"colorscale\": [[0.0, \"#0d0887\"], [0.1111111111111111, \"#46039f\"], [0.2222222222222222, \"#7201a8\"], [0.3333333333333333, \"#9c179e\"], [0.4444444444444444, \"#bd3786\"], [0.5555555555555556, \"#d8576b\"], [0.6666666666666666, \"#ed7953\"], [0.7777777777777778, \"#fb9f3a\"], [0.8888888888888888, \"#fdca26\"], [1.0, \"#f0f921\"]], \"type\": \"heatmapgl\"}], \"histogram\": [{\"marker\": {\"colorbar\": {\"outlinewidth\": 0, \"ticks\": \"\"}}, \"type\": \"histogram\"}], \"histogram2d\": [{\"colorbar\": {\"outlinewidth\": 0, \"ticks\": \"\"}, \"colorscale\": [[0.0, \"#0d0887\"], [0.1111111111111111, \"#46039f\"], [0.2222222222222222, \"#7201a8\"], [0.3333333333333333, \"#9c179e\"], [0.4444444444444444, \"#bd3786\"], [0.5555555555555556, \"#d8576b\"], [0.6666666666666666, \"#ed7953\"], [0.7777777777777778, \"#fb9f3a\"], [0.8888888888888888, \"#fdca26\"], [1.0, \"#f0f921\"]], \"type\": \"histogram2d\"}], \"histogram2dcontour\": [{\"colorbar\": {\"outlinewidth\": 0, \"ticks\": \"\"}, \"colorscale\": [[0.0, \"#0d0887\"], [0.1111111111111111, \"#46039f\"], [0.2222222222222222, \"#7201a8\"], [0.3333333333333333, \"#9c179e\"], [0.4444444444444444, \"#bd3786\"], [0.5555555555555556, \"#d8576b\"], [0.6666666666666666, \"#ed7953\"], [0.7777777777777778, \"#fb9f3a\"], [0.8888888888888888, \"#fdca26\"], [1.0, \"#f0f921\"]], \"type\": \"histogram2dcontour\"}], \"mesh3d\": [{\"colorbar\": {\"outlinewidth\": 0, \"ticks\": \"\"}, \"type\": \"mesh3d\"}], \"parcoords\": [{\"line\": {\"colorbar\": {\"outlinewidth\": 0, \"ticks\": \"\"}}, \"type\": \"parcoords\"}], \"pie\": [{\"automargin\": true, \"type\": \"pie\"}], \"scatter\": [{\"marker\": {\"colorbar\": {\"outlinewidth\": 0, \"ticks\": \"\"}}, \"type\": \"scatter\"}], \"scatter3d\": [{\"line\": {\"colorbar\": {\"outlinewidth\": 0, \"ticks\": \"\"}}, \"marker\": {\"colorbar\": {\"outlinewidth\": 0, \"ticks\": \"\"}}, \"type\": \"scatter3d\"}], \"scattercarpet\": [{\"marker\": {\"colorbar\": {\"outlinewidth\": 0, \"ticks\": \"\"}}, \"type\": \"scattercarpet\"}], \"scattergeo\": [{\"marker\": {\"colorbar\": {\"outlinewidth\": 0, \"ticks\": \"\"}}, \"type\": \"scattergeo\"}], \"scattergl\": [{\"marker\": {\"colorbar\": {\"outlinewidth\": 0, \"ticks\": \"\"}}, \"type\": \"scattergl\"}], \"scattermapbox\": [{\"marker\": {\"colorbar\": {\"outlinewidth\": 0, \"ticks\": \"\"}}, \"type\": \"scattermapbox\"}], \"scatterpolar\": [{\"marker\": {\"colorbar\": {\"outlinewidth\": 0, \"ticks\": \"\"}}, \"type\": \"scatterpolar\"}], \"scatterpolargl\": [{\"marker\": {\"colorbar\": {\"outlinewidth\": 0, \"ticks\": \"\"}}, \"type\": \"scatterpolargl\"}], \"scatterternary\": [{\"marker\": {\"colorbar\": {\"outlinewidth\": 0, \"ticks\": \"\"}}, \"type\": \"scatterternary\"}], \"surface\": [{\"colorbar\": {\"outlinewidth\": 0, \"ticks\": \"\"}, \"colorscale\": [[0.0, \"#0d0887\"], [0.1111111111111111, \"#46039f\"], [0.2222222222222222, \"#7201a8\"], [0.3333333333333333, \"#9c179e\"], [0.4444444444444444, \"#bd3786\"], [0.5555555555555556, \"#d8576b\"], [0.6666666666666666, \"#ed7953\"], [0.7777777777777778, \"#fb9f3a\"], [0.8888888888888888, \"#fdca26\"], [1.0, \"#f0f921\"]], \"type\": \"surface\"}], \"table\": [{\"cells\": {\"fill\": {\"color\": \"#EBF0F8\"}, \"line\": {\"color\": \"white\"}}, \"header\": {\"fill\": {\"color\": \"#C8D4E3\"}, \"line\": {\"color\": \"white\"}}, \"type\": \"table\"}]}, \"layout\": {\"annotationdefaults\": {\"arrowcolor\": \"#2a3f5f\", \"arrowhead\": 0, \"arrowwidth\": 1}, \"coloraxis\": {\"colorbar\": {\"outlinewidth\": 0, \"ticks\": \"\"}}, \"colorscale\": {\"diverging\": [[0, \"#8e0152\"], [0.1, \"#c51b7d\"], [0.2, \"#de77ae\"], [0.3, \"#f1b6da\"], [0.4, \"#fde0ef\"], [0.5, \"#f7f7f7\"], [0.6, \"#e6f5d0\"], [0.7, \"#b8e186\"], [0.8, \"#7fbc41\"], [0.9, \"#4d9221\"], [1, \"#276419\"]], \"sequential\": [[0.0, \"#0d0887\"], [0.1111111111111111, \"#46039f\"], [0.2222222222222222, \"#7201a8\"], [0.3333333333333333, \"#9c179e\"], [0.4444444444444444, \"#bd3786\"], [0.5555555555555556, \"#d8576b\"], [0.6666666666666666, \"#ed7953\"], [0.7777777777777778, \"#fb9f3a\"], [0.8888888888888888, \"#fdca26\"], [1.0, \"#f0f921\"]], \"sequentialminus\": [[0.0, \"#0d0887\"], [0.1111111111111111, \"#46039f\"], [0.2222222222222222, \"#7201a8\"], [0.3333333333333333, \"#9c179e\"], [0.4444444444444444, \"#bd3786\"], [0.5555555555555556, \"#d8576b\"], [0.6666666666666666, \"#ed7953\"], [0.7777777777777778, \"#fb9f3a\"], [0.8888888888888888, \"#fdca26\"], [1.0, \"#f0f921\"]]}, \"colorway\": [\"#636efa\", \"#EF553B\", \"#00cc96\", \"#ab63fa\", \"#FFA15A\", \"#19d3f3\", \"#FF6692\", \"#B6E880\", \"#FF97FF\", \"#FECB52\"], \"font\": {\"color\": \"#2a3f5f\"}, \"geo\": {\"bgcolor\": \"white\", \"lakecolor\": \"white\", \"landcolor\": \"#E5ECF6\", \"showlakes\": true, \"showland\": true, \"subunitcolor\": \"white\"}, \"hoverlabel\": {\"align\": \"left\"}, \"hovermode\": \"closest\", \"mapbox\": {\"style\": \"light\"}, \"paper_bgcolor\": \"white\", \"plot_bgcolor\": \"#E5ECF6\", \"polar\": {\"angularaxis\": {\"gridcolor\": \"white\", \"linecolor\": \"white\", \"ticks\": \"\"}, \"bgcolor\": \"#E5ECF6\", \"radialaxis\": {\"gridcolor\": \"white\", \"linecolor\": \"white\", \"ticks\": \"\"}}, \"scene\": {\"xaxis\": {\"backgroundcolor\": \"#E5ECF6\", \"gridcolor\": \"white\", \"gridwidth\": 2, \"linecolor\": \"white\", \"showbackground\": true, \"ticks\": \"\", \"zerolinecolor\": \"white\"}, \"yaxis\": {\"backgroundcolor\": \"#E5ECF6\", \"gridcolor\": \"white\", \"gridwidth\": 2, \"linecolor\": \"white\", \"showbackground\": true, \"ticks\": \"\", \"zerolinecolor\": \"white\"}, \"zaxis\": {\"backgroundcolor\": \"#E5ECF6\", \"gridcolor\": \"white\", \"gridwidth\": 2, \"linecolor\": \"white\", \"showbackground\": true, \"ticks\": \"\", \"zerolinecolor\": \"white\"}}, \"shapedefaults\": {\"line\": {\"color\": \"#2a3f5f\"}}, \"ternary\": {\"aaxis\": {\"gridcolor\": \"white\", \"linecolor\": \"white\", \"ticks\": \"\"}, \"baxis\": {\"gridcolor\": \"white\", \"linecolor\": \"white\", \"ticks\": \"\"}, \"bgcolor\": \"#E5ECF6\", \"caxis\": {\"gridcolor\": \"white\", \"linecolor\": \"white\", \"ticks\": \"\"}}, \"title\": {\"x\": 0.05}, \"xaxis\": {\"automargin\": true, \"gridcolor\": \"white\", \"linecolor\": \"white\", \"ticks\": \"\", \"title\": {\"standoff\": 15}, \"zerolinecolor\": \"white\", \"zerolinewidth\": 2}, \"yaxis\": {\"automargin\": true, \"gridcolor\": \"white\", \"linecolor\": \"white\", \"ticks\": \"\", \"title\": {\"standoff\": 15}, \"zerolinecolor\": \"white\", \"zerolinewidth\": 2}}}, \"title\": {\"text\": \"Cluster 3 Variabel\"}},                        {\"responsive\": true}                    ).then(function(){\n",
       "                            \n",
       "var gd = document.getElementById('d1523135-aafc-4059-9af4-175a91daa102');\n",
       "var x = new MutationObserver(function (mutations, observer) {{\n",
       "        var display = window.getComputedStyle(gd).display;\n",
       "        if (!display || display === 'none') {{\n",
       "            console.log([gd, 'removed!']);\n",
       "            Plotly.purge(gd);\n",
       "            observer.disconnect();\n",
       "        }}\n",
       "}});\n",
       "\n",
       "// Listen for the removal of the full notebook cells\n",
       "var notebookContainer = gd.closest('#notebook-container');\n",
       "if (notebookContainer) {{\n",
       "    x.observe(notebookContainer, {childList: true});\n",
       "}}\n",
       "\n",
       "// Listen for the clearing of the current output cell\n",
       "var outputEl = gd.closest('.output');\n",
       "if (outputEl) {{\n",
       "    x.observe(outputEl, {childList: true});\n",
       "}}\n",
       "\n",
       "                        })                };                });            </script>        </div>"
      ]
     },
     "metadata": {},
     "output_type": "display_data"
    }
   ],
   "source": [
    "import plotly as py\n",
    "import plotly.graph_objs as go\n",
    "\n",
    "df['label'] =  labels_alt\n",
    "trace1 = go.Scatter3d(\n",
    "    x= df['Age'],\n",
    "    y= df['Spending Score (1-100)'],\n",
    "    z= df['Annual Income (k$)'],\n",
    "    mode='markers',\n",
    "     marker=dict(\n",
    "        color = df['label'], \n",
    "        size= 20,\n",
    "        line=dict(\n",
    "            color= df['label'],\n",
    "            width= 12\n",
    "        ),\n",
    "        opacity=0.8\n",
    "     )\n",
    ")\n",
    "data = [trace1]\n",
    "layout = go.Layout(\n",
    "#     margin=dict(\n",
    "#         l=0,\n",
    "#         r=0,\n",
    "#         b=0,\n",
    "#         t=0\n",
    "#     )\n",
    "    title= 'Cluster 3 Variabel',\n",
    "    scene = dict(\n",
    "            xaxis = dict(title  = 'Age'),\n",
    "            yaxis = dict(title  = 'Spending Score'),\n",
    "            zaxis = dict(title  = 'Annual Income')\n",
    "        )\n",
    ")\n",
    "fig = go.Figure(data=data, layout=layout)\n",
    "py.offline.iplot(fig)"
   ]
  },
  {
   "cell_type": "code",
   "execution_count": 53,
   "metadata": {},
   "outputs": [
    {
     "data": {
      "text/html": [
       "<div>\n",
       "<style scoped>\n",
       "    .dataframe tbody tr th:only-of-type {\n",
       "        vertical-align: middle;\n",
       "    }\n",
       "\n",
       "    .dataframe tbody tr th {\n",
       "        vertical-align: top;\n",
       "    }\n",
       "\n",
       "    .dataframe thead th {\n",
       "        text-align: right;\n",
       "    }\n",
       "</style>\n",
       "<table border=\"1\" class=\"dataframe\">\n",
       "  <thead>\n",
       "    <tr style=\"text-align: right;\">\n",
       "      <th></th>\n",
       "      <th>Age</th>\n",
       "      <th>Annual Income (k$)</th>\n",
       "      <th>Spending Score (1-100)</th>\n",
       "      <th>label</th>\n",
       "    </tr>\n",
       "  </thead>\n",
       "  <tbody>\n",
       "    <tr>\n",
       "      <td>0</td>\n",
       "      <td>-1.424569</td>\n",
       "      <td>-1.738999</td>\n",
       "      <td>-0.434801</td>\n",
       "      <td>5</td>\n",
       "    </tr>\n",
       "    <tr>\n",
       "      <td>1</td>\n",
       "      <td>-1.281035</td>\n",
       "      <td>-1.738999</td>\n",
       "      <td>1.195704</td>\n",
       "      <td>5</td>\n",
       "    </tr>\n",
       "    <tr>\n",
       "      <td>2</td>\n",
       "      <td>-1.352802</td>\n",
       "      <td>-1.700830</td>\n",
       "      <td>-1.715913</td>\n",
       "      <td>4</td>\n",
       "    </tr>\n",
       "    <tr>\n",
       "      <td>3</td>\n",
       "      <td>-1.137502</td>\n",
       "      <td>-1.700830</td>\n",
       "      <td>1.040418</td>\n",
       "      <td>5</td>\n",
       "    </tr>\n",
       "    <tr>\n",
       "      <td>4</td>\n",
       "      <td>-0.563369</td>\n",
       "      <td>-1.662660</td>\n",
       "      <td>-0.395980</td>\n",
       "      <td>4</td>\n",
       "    </tr>\n",
       "    <tr>\n",
       "      <td>...</td>\n",
       "      <td>...</td>\n",
       "      <td>...</td>\n",
       "      <td>...</td>\n",
       "      <td>...</td>\n",
       "    </tr>\n",
       "    <tr>\n",
       "      <td>195</td>\n",
       "      <td>-0.276302</td>\n",
       "      <td>2.268791</td>\n",
       "      <td>1.118061</td>\n",
       "      <td>2</td>\n",
       "    </tr>\n",
       "    <tr>\n",
       "      <td>196</td>\n",
       "      <td>0.441365</td>\n",
       "      <td>2.497807</td>\n",
       "      <td>-0.861839</td>\n",
       "      <td>3</td>\n",
       "    </tr>\n",
       "    <tr>\n",
       "      <td>197</td>\n",
       "      <td>-0.491602</td>\n",
       "      <td>2.497807</td>\n",
       "      <td>0.923953</td>\n",
       "      <td>2</td>\n",
       "    </tr>\n",
       "    <tr>\n",
       "      <td>198</td>\n",
       "      <td>-0.491602</td>\n",
       "      <td>2.917671</td>\n",
       "      <td>-1.250054</td>\n",
       "      <td>3</td>\n",
       "    </tr>\n",
       "    <tr>\n",
       "      <td>199</td>\n",
       "      <td>-0.635135</td>\n",
       "      <td>2.917671</td>\n",
       "      <td>1.273347</td>\n",
       "      <td>2</td>\n",
       "    </tr>\n",
       "  </tbody>\n",
       "</table>\n",
       "<p>200 rows × 4 columns</p>\n",
       "</div>"
      ],
      "text/plain": [
       "          Age  Annual Income (k$)  Spending Score (1-100)  label\n",
       "0   -1.424569           -1.738999               -0.434801      5\n",
       "1   -1.281035           -1.738999                1.195704      5\n",
       "2   -1.352802           -1.700830               -1.715913      4\n",
       "3   -1.137502           -1.700830                1.040418      5\n",
       "4   -0.563369           -1.662660               -0.395980      4\n",
       "..        ...                 ...                     ...    ...\n",
       "195 -0.276302            2.268791                1.118061      2\n",
       "196  0.441365            2.497807               -0.861839      3\n",
       "197 -0.491602            2.497807                0.923953      2\n",
       "198 -0.491602            2.917671               -1.250054      3\n",
       "199 -0.635135            2.917671                1.273347      2\n",
       "\n",
       "[200 rows x 4 columns]"
      ]
     },
     "execution_count": 53,
     "metadata": {},
     "output_type": "execute_result"
    }
   ],
   "source": [
    "df"
   ]
  },
  {
   "cell_type": "markdown",
   "metadata": {},
   "source": [
    "Untuk dapat memahami grafik 3d tersebut, mari kita breakdown dan deskripsikan tiap klusternya."
   ]
  },
  {
   "cell_type": "code",
   "execution_count": 62,
   "metadata": {},
   "outputs": [],
   "source": [
    "df_0 = df[df['label']==0]\n",
    "df_1 = df[df['label']==1]\n",
    "df_2 = df[df['label']==2]\n",
    "df_3 = df[df['label']==3]\n",
    "df_4 = df[df['label']==4]\n",
    "df_5 = df[df['label']==5]"
   ]
  },
  {
   "cell_type": "code",
   "execution_count": 60,
   "metadata": {},
   "outputs": [
    {
     "data": {
      "text/html": [
       "<div>\n",
       "<style scoped>\n",
       "    .dataframe tbody tr th:only-of-type {\n",
       "        vertical-align: middle;\n",
       "    }\n",
       "\n",
       "    .dataframe tbody tr th {\n",
       "        vertical-align: top;\n",
       "    }\n",
       "\n",
       "    .dataframe thead th {\n",
       "        text-align: right;\n",
       "    }\n",
       "</style>\n",
       "<table border=\"1\" class=\"dataframe\">\n",
       "  <thead>\n",
       "    <tr style=\"text-align: right;\">\n",
       "      <th></th>\n",
       "      <th>Age</th>\n",
       "      <th>Annual Income (k$)</th>\n",
       "      <th>Spending Score (1-100)</th>\n",
       "      <th>label</th>\n",
       "    </tr>\n",
       "  </thead>\n",
       "  <tbody>\n",
       "    <tr>\n",
       "      <td>count</td>\n",
       "      <td>38.000000</td>\n",
       "      <td>38.000000</td>\n",
       "      <td>38.000000</td>\n",
       "      <td>38.0</td>\n",
       "    </tr>\n",
       "    <tr>\n",
       "      <td>mean</td>\n",
       "      <td>-0.850435</td>\n",
       "      <td>-0.148941</td>\n",
       "      <td>-0.041478</td>\n",
       "      <td>0.0</td>\n",
       "    </tr>\n",
       "    <tr>\n",
       "      <td>std</td>\n",
       "      <td>0.504717</td>\n",
       "      <td>0.378095</td>\n",
       "      <td>0.304904</td>\n",
       "      <td>0.0</td>\n",
       "    </tr>\n",
       "    <tr>\n",
       "      <td>min</td>\n",
       "      <td>-1.496335</td>\n",
       "      <td>-0.822933</td>\n",
       "      <td>-0.823017</td>\n",
       "      <td>0.0</td>\n",
       "    </tr>\n",
       "    <tr>\n",
       "      <td>25%</td>\n",
       "      <td>-1.281035</td>\n",
       "      <td>-0.479408</td>\n",
       "      <td>-0.318337</td>\n",
       "      <td>0.0</td>\n",
       "    </tr>\n",
       "    <tr>\n",
       "      <td>50%</td>\n",
       "      <td>-0.886319</td>\n",
       "      <td>-0.040460</td>\n",
       "      <td>-0.007764</td>\n",
       "      <td>0.0</td>\n",
       "    </tr>\n",
       "    <tr>\n",
       "      <td>75%</td>\n",
       "      <td>-0.509543</td>\n",
       "      <td>0.121760</td>\n",
       "      <td>0.186343</td>\n",
       "      <td>0.0</td>\n",
       "    </tr>\n",
       "    <tr>\n",
       "      <td>max</td>\n",
       "      <td>0.082532</td>\n",
       "      <td>0.589336</td>\n",
       "      <td>0.419273</td>\n",
       "      <td>0.0</td>\n",
       "    </tr>\n",
       "  </tbody>\n",
       "</table>\n",
       "</div>"
      ],
      "text/plain": [
       "             Age  Annual Income (k$)  Spending Score (1-100)  label\n",
       "count  38.000000           38.000000               38.000000   38.0\n",
       "mean   -0.850435           -0.148941               -0.041478    0.0\n",
       "std     0.504717            0.378095                0.304904    0.0\n",
       "min    -1.496335           -0.822933               -0.823017    0.0\n",
       "25%    -1.281035           -0.479408               -0.318337    0.0\n",
       "50%    -0.886319           -0.040460               -0.007764    0.0\n",
       "75%    -0.509543            0.121760                0.186343    0.0\n",
       "max     0.082532            0.589336                0.419273    0.0"
      ]
     },
     "execution_count": 60,
     "metadata": {},
     "output_type": "execute_result"
    }
   ],
   "source": [
    "df_0.describe()"
   ]
  },
  {
   "cell_type": "code",
   "execution_count": 56,
   "metadata": {},
   "outputs": [
    {
     "data": {
      "text/html": [
       "<div>\n",
       "<style scoped>\n",
       "    .dataframe tbody tr th:only-of-type {\n",
       "        vertical-align: middle;\n",
       "    }\n",
       "\n",
       "    .dataframe tbody tr th {\n",
       "        vertical-align: top;\n",
       "    }\n",
       "\n",
       "    .dataframe thead th {\n",
       "        text-align: right;\n",
       "    }\n",
       "</style>\n",
       "<table border=\"1\" class=\"dataframe\">\n",
       "  <thead>\n",
       "    <tr style=\"text-align: right;\">\n",
       "      <th></th>\n",
       "      <th>Age</th>\n",
       "      <th>Annual Income (k$)</th>\n",
       "      <th>Spending Score (1-100)</th>\n",
       "      <th>label</th>\n",
       "    </tr>\n",
       "  </thead>\n",
       "  <tbody>\n",
       "    <tr>\n",
       "      <td>count</td>\n",
       "      <td>45.000000</td>\n",
       "      <td>45.000000</td>\n",
       "      <td>45.000000</td>\n",
       "      <td>45.0</td>\n",
       "    </tr>\n",
       "    <tr>\n",
       "      <td>mean</td>\n",
       "      <td>1.254721</td>\n",
       "      <td>-0.240213</td>\n",
       "      <td>-0.043998</td>\n",
       "      <td>1.0</td>\n",
       "    </tr>\n",
       "    <tr>\n",
       "      <td>std</td>\n",
       "      <td>0.606650</td>\n",
       "      <td>0.342598</td>\n",
       "      <td>0.244607</td>\n",
       "      <td>0.0</td>\n",
       "    </tr>\n",
       "    <tr>\n",
       "      <td>min</td>\n",
       "      <td>0.297832</td>\n",
       "      <td>-0.861102</td>\n",
       "      <td>-0.590088</td>\n",
       "      <td>1.0</td>\n",
       "    </tr>\n",
       "    <tr>\n",
       "      <td>25%</td>\n",
       "      <td>0.728432</td>\n",
       "      <td>-0.517577</td>\n",
       "      <td>-0.201872</td>\n",
       "      <td>1.0</td>\n",
       "    </tr>\n",
       "    <tr>\n",
       "      <td>50%</td>\n",
       "      <td>1.087265</td>\n",
       "      <td>-0.250391</td>\n",
       "      <td>-0.046586</td>\n",
       "      <td>1.0</td>\n",
       "    </tr>\n",
       "    <tr>\n",
       "      <td>75%</td>\n",
       "      <td>1.876699</td>\n",
       "      <td>0.054964</td>\n",
       "      <td>0.186343</td>\n",
       "      <td>1.0</td>\n",
       "    </tr>\n",
       "    <tr>\n",
       "      <td>max</td>\n",
       "      <td>2.235532</td>\n",
       "      <td>0.703844</td>\n",
       "      <td>0.380451</td>\n",
       "      <td>1.0</td>\n",
       "    </tr>\n",
       "  </tbody>\n",
       "</table>\n",
       "</div>"
      ],
      "text/plain": [
       "             Age  Annual Income (k$)  Spending Score (1-100)  label\n",
       "count  45.000000           45.000000               45.000000   45.0\n",
       "mean    1.254721           -0.240213               -0.043998    1.0\n",
       "std     0.606650            0.342598                0.244607    0.0\n",
       "min     0.297832           -0.861102               -0.590088    1.0\n",
       "25%     0.728432           -0.517577               -0.201872    1.0\n",
       "50%     1.087265           -0.250391               -0.046586    1.0\n",
       "75%     1.876699            0.054964                0.186343    1.0\n",
       "max     2.235532            0.703844                0.380451    1.0"
      ]
     },
     "execution_count": 56,
     "metadata": {},
     "output_type": "execute_result"
    }
   ],
   "source": [
    "df_1.describe()"
   ]
  },
  {
   "cell_type": "code",
   "execution_count": 57,
   "metadata": {},
   "outputs": [
    {
     "data": {
      "text/html": [
       "<div>\n",
       "<style scoped>\n",
       "    .dataframe tbody tr th:only-of-type {\n",
       "        vertical-align: middle;\n",
       "    }\n",
       "\n",
       "    .dataframe tbody tr th {\n",
       "        vertical-align: top;\n",
       "    }\n",
       "\n",
       "    .dataframe thead th {\n",
       "        text-align: right;\n",
       "    }\n",
       "</style>\n",
       "<table border=\"1\" class=\"dataframe\">\n",
       "  <thead>\n",
       "    <tr style=\"text-align: right;\">\n",
       "      <th></th>\n",
       "      <th>Age</th>\n",
       "      <th>Annual Income (k$)</th>\n",
       "      <th>Spending Score (1-100)</th>\n",
       "      <th>label</th>\n",
       "    </tr>\n",
       "  </thead>\n",
       "  <tbody>\n",
       "    <tr>\n",
       "      <td>count</td>\n",
       "      <td>39.000000</td>\n",
       "      <td>39.000000</td>\n",
       "      <td>39.000000</td>\n",
       "      <td>39.0</td>\n",
       "    </tr>\n",
       "    <tr>\n",
       "      <td>mean</td>\n",
       "      <td>-0.441917</td>\n",
       "      <td>0.991583</td>\n",
       "      <td>1.239503</td>\n",
       "      <td>2.0</td>\n",
       "    </tr>\n",
       "    <tr>\n",
       "      <td>std</td>\n",
       "      <td>0.267593</td>\n",
       "      <td>0.622638</td>\n",
       "      <td>0.363544</td>\n",
       "      <td>0.0</td>\n",
       "    </tr>\n",
       "    <tr>\n",
       "      <td>min</td>\n",
       "      <td>-0.850435</td>\n",
       "      <td>0.322150</td>\n",
       "      <td>0.496916</td>\n",
       "      <td>2.0</td>\n",
       "    </tr>\n",
       "    <tr>\n",
       "      <td>25%</td>\n",
       "      <td>-0.635135</td>\n",
       "      <td>0.570251</td>\n",
       "      <td>0.943364</td>\n",
       "      <td>2.0</td>\n",
       "    </tr>\n",
       "    <tr>\n",
       "      <td>50%</td>\n",
       "      <td>-0.491602</td>\n",
       "      <td>0.703844</td>\n",
       "      <td>1.273347</td>\n",
       "      <td>2.0</td>\n",
       "    </tr>\n",
       "    <tr>\n",
       "      <td>75%</td>\n",
       "      <td>-0.240418</td>\n",
       "      <td>1.314555</td>\n",
       "      <td>1.545098</td>\n",
       "      <td>2.0</td>\n",
       "    </tr>\n",
       "    <tr>\n",
       "      <td>max</td>\n",
       "      <td>0.082532</td>\n",
       "      <td>2.917671</td>\n",
       "      <td>1.816849</td>\n",
       "      <td>2.0</td>\n",
       "    </tr>\n",
       "  </tbody>\n",
       "</table>\n",
       "</div>"
      ],
      "text/plain": [
       "             Age  Annual Income (k$)  Spending Score (1-100)  label\n",
       "count  39.000000           39.000000               39.000000   39.0\n",
       "mean   -0.441917            0.991583                1.239503    2.0\n",
       "std     0.267593            0.622638                0.363544    0.0\n",
       "min    -0.850435            0.322150                0.496916    2.0\n",
       "25%    -0.635135            0.570251                0.943364    2.0\n",
       "50%    -0.491602            0.703844                1.273347    2.0\n",
       "75%    -0.240418            1.314555                1.545098    2.0\n",
       "max     0.082532            2.917671                1.816849    2.0"
      ]
     },
     "execution_count": 57,
     "metadata": {},
     "output_type": "execute_result"
    }
   ],
   "source": [
    "df_2.describe()"
   ]
  },
  {
   "cell_type": "code",
   "execution_count": 58,
   "metadata": {},
   "outputs": [
    {
     "data": {
      "text/html": [
       "<div>\n",
       "<style scoped>\n",
       "    .dataframe tbody tr th:only-of-type {\n",
       "        vertical-align: middle;\n",
       "    }\n",
       "\n",
       "    .dataframe tbody tr th {\n",
       "        vertical-align: top;\n",
       "    }\n",
       "\n",
       "    .dataframe thead th {\n",
       "        text-align: right;\n",
       "    }\n",
       "</style>\n",
       "<table border=\"1\" class=\"dataframe\">\n",
       "  <thead>\n",
       "    <tr style=\"text-align: right;\">\n",
       "      <th></th>\n",
       "      <th>Age</th>\n",
       "      <th>Annual Income (k$)</th>\n",
       "      <th>Spending Score (1-100)</th>\n",
       "      <th>label</th>\n",
       "    </tr>\n",
       "  </thead>\n",
       "  <tbody>\n",
       "    <tr>\n",
       "      <td>count</td>\n",
       "      <td>34.000000</td>\n",
       "      <td>34.000000</td>\n",
       "      <td>34.000000</td>\n",
       "      <td>34.0</td>\n",
       "    </tr>\n",
       "    <tr>\n",
       "      <td>mean</td>\n",
       "      <td>0.173295</td>\n",
       "      <td>1.066454</td>\n",
       "      <td>-1.298010</td>\n",
       "      <td>3.0</td>\n",
       "    </tr>\n",
       "    <tr>\n",
       "      <td>std</td>\n",
       "      <td>0.772811</td>\n",
       "      <td>0.631065</td>\n",
       "      <td>0.383607</td>\n",
       "      <td>0.0</td>\n",
       "    </tr>\n",
       "    <tr>\n",
       "      <td>min</td>\n",
       "      <td>-1.424569</td>\n",
       "      <td>0.398489</td>\n",
       "      <td>-1.910021</td>\n",
       "      <td>3.0</td>\n",
       "    </tr>\n",
       "    <tr>\n",
       "      <td>25%</td>\n",
       "      <td>-0.312185</td>\n",
       "      <td>0.637048</td>\n",
       "      <td>-1.560627</td>\n",
       "      <td>3.0</td>\n",
       "    </tr>\n",
       "    <tr>\n",
       "      <td>50%</td>\n",
       "      <td>0.261948</td>\n",
       "      <td>0.951946</td>\n",
       "      <td>-1.347108</td>\n",
       "      <td>3.0</td>\n",
       "    </tr>\n",
       "    <tr>\n",
       "      <td>75%</td>\n",
       "      <td>0.584899</td>\n",
       "      <td>1.419521</td>\n",
       "      <td>-1.065652</td>\n",
       "      <td>3.0</td>\n",
       "    </tr>\n",
       "    <tr>\n",
       "      <td>max</td>\n",
       "      <td>1.446099</td>\n",
       "      <td>2.917671</td>\n",
       "      <td>-0.434801</td>\n",
       "      <td>3.0</td>\n",
       "    </tr>\n",
       "  </tbody>\n",
       "</table>\n",
       "</div>"
      ],
      "text/plain": [
       "             Age  Annual Income (k$)  Spending Score (1-100)  label\n",
       "count  34.000000           34.000000               34.000000   34.0\n",
       "mean    0.173295            1.066454               -1.298010    3.0\n",
       "std     0.772811            0.631065                0.383607    0.0\n",
       "min    -1.424569            0.398489               -1.910021    3.0\n",
       "25%    -0.312185            0.637048               -1.560627    3.0\n",
       "50%     0.261948            0.951946               -1.347108    3.0\n",
       "75%     0.584899            1.419521               -1.065652    3.0\n",
       "max     1.446099            2.917671               -0.434801    3.0"
      ]
     },
     "execution_count": 58,
     "metadata": {},
     "output_type": "execute_result"
    }
   ],
   "source": [
    "df_3.describe()"
   ]
  },
  {
   "cell_type": "code",
   "execution_count": 59,
   "metadata": {},
   "outputs": [
    {
     "data": {
      "text/html": [
       "<div>\n",
       "<style scoped>\n",
       "    .dataframe tbody tr th:only-of-type {\n",
       "        vertical-align: middle;\n",
       "    }\n",
       "\n",
       "    .dataframe tbody tr th {\n",
       "        vertical-align: top;\n",
       "    }\n",
       "\n",
       "    .dataframe thead th {\n",
       "        text-align: right;\n",
       "    }\n",
       "</style>\n",
       "<table border=\"1\" class=\"dataframe\">\n",
       "  <thead>\n",
       "    <tr style=\"text-align: right;\">\n",
       "      <th></th>\n",
       "      <th>Age</th>\n",
       "      <th>Annual Income (k$)</th>\n",
       "      <th>Spending Score (1-100)</th>\n",
       "      <th>label</th>\n",
       "    </tr>\n",
       "  </thead>\n",
       "  <tbody>\n",
       "    <tr>\n",
       "      <td>count</td>\n",
       "      <td>21.000000</td>\n",
       "      <td>21.000000</td>\n",
       "      <td>21.000000</td>\n",
       "      <td>21.0</td>\n",
       "    </tr>\n",
       "    <tr>\n",
       "      <td>mean</td>\n",
       "      <td>0.478957</td>\n",
       "      <td>-1.308230</td>\n",
       "      <td>-1.196444</td>\n",
       "      <td>4.0</td>\n",
       "    </tr>\n",
       "    <tr>\n",
       "      <td>std</td>\n",
       "      <td>0.844477</td>\n",
       "      <td>0.283880</td>\n",
       "      <td>0.487435</td>\n",
       "      <td>0.0</td>\n",
       "    </tr>\n",
       "    <tr>\n",
       "      <td>min</td>\n",
       "      <td>-1.352802</td>\n",
       "      <td>-1.700830</td>\n",
       "      <td>-1.832378</td>\n",
       "      <td>4.0</td>\n",
       "    </tr>\n",
       "    <tr>\n",
       "      <td>25%</td>\n",
       "      <td>-0.204535</td>\n",
       "      <td>-1.548152</td>\n",
       "      <td>-1.715913</td>\n",
       "      <td>4.0</td>\n",
       "    </tr>\n",
       "    <tr>\n",
       "      <td>50%</td>\n",
       "      <td>0.513132</td>\n",
       "      <td>-1.357305</td>\n",
       "      <td>-1.366519</td>\n",
       "      <td>4.0</td>\n",
       "    </tr>\n",
       "    <tr>\n",
       "      <td>75%</td>\n",
       "      <td>1.015499</td>\n",
       "      <td>-1.051949</td>\n",
       "      <td>-0.745374</td>\n",
       "      <td>4.0</td>\n",
       "    </tr>\n",
       "    <tr>\n",
       "      <td>max</td>\n",
       "      <td>2.020232</td>\n",
       "      <td>-0.822933</td>\n",
       "      <td>-0.395980</td>\n",
       "      <td>4.0</td>\n",
       "    </tr>\n",
       "  </tbody>\n",
       "</table>\n",
       "</div>"
      ],
      "text/plain": [
       "             Age  Annual Income (k$)  Spending Score (1-100)  label\n",
       "count  21.000000           21.000000               21.000000   21.0\n",
       "mean    0.478957           -1.308230               -1.196444    4.0\n",
       "std     0.844477            0.283880                0.487435    0.0\n",
       "min    -1.352802           -1.700830               -1.832378    4.0\n",
       "25%    -0.204535           -1.548152               -1.715913    4.0\n",
       "50%     0.513132           -1.357305               -1.366519    4.0\n",
       "75%     1.015499           -1.051949               -0.745374    4.0\n",
       "max     2.020232           -0.822933               -0.395980    4.0"
      ]
     },
     "execution_count": 59,
     "metadata": {},
     "output_type": "execute_result"
    }
   ],
   "source": [
    "df_4.describe()"
   ]
  },
  {
   "cell_type": "code",
   "execution_count": 63,
   "metadata": {},
   "outputs": [
    {
     "data": {
      "text/html": [
       "<div>\n",
       "<style scoped>\n",
       "    .dataframe tbody tr th:only-of-type {\n",
       "        vertical-align: middle;\n",
       "    }\n",
       "\n",
       "    .dataframe tbody tr th {\n",
       "        vertical-align: top;\n",
       "    }\n",
       "\n",
       "    .dataframe thead th {\n",
       "        text-align: right;\n",
       "    }\n",
       "</style>\n",
       "<table border=\"1\" class=\"dataframe\">\n",
       "  <thead>\n",
       "    <tr style=\"text-align: right;\">\n",
       "      <th></th>\n",
       "      <th>Age</th>\n",
       "      <th>Annual Income (k$)</th>\n",
       "      <th>Spending Score (1-100)</th>\n",
       "      <th>label</th>\n",
       "    </tr>\n",
       "  </thead>\n",
       "  <tbody>\n",
       "    <tr>\n",
       "      <td>count</td>\n",
       "      <td>23.000000</td>\n",
       "      <td>23.000000</td>\n",
       "      <td>23.000000</td>\n",
       "      <td>23.0</td>\n",
       "    </tr>\n",
       "    <tr>\n",
       "      <td>mean</td>\n",
       "      <td>-0.993969</td>\n",
       "      <td>-1.347348</td>\n",
       "      <td>1.064048</td>\n",
       "      <td>5.0</td>\n",
       "    </tr>\n",
       "    <tr>\n",
       "      <td>std</td>\n",
       "      <td>0.380370</td>\n",
       "      <td>0.294811</td>\n",
       "      <td>0.515257</td>\n",
       "      <td>0.0</td>\n",
       "    </tr>\n",
       "    <tr>\n",
       "      <td>min</td>\n",
       "      <td>-1.496335</td>\n",
       "      <td>-1.738999</td>\n",
       "      <td>-0.434801</td>\n",
       "      <td>5.0</td>\n",
       "    </tr>\n",
       "    <tr>\n",
       "      <td>25%</td>\n",
       "      <td>-1.281035</td>\n",
       "      <td>-1.586321</td>\n",
       "      <td>0.885132</td>\n",
       "      <td>5.0</td>\n",
       "    </tr>\n",
       "    <tr>\n",
       "      <td>50%</td>\n",
       "      <td>-1.137502</td>\n",
       "      <td>-1.395474</td>\n",
       "      <td>1.040418</td>\n",
       "      <td>5.0</td>\n",
       "    </tr>\n",
       "    <tr>\n",
       "      <td>75%</td>\n",
       "      <td>-0.671019</td>\n",
       "      <td>-1.109204</td>\n",
       "      <td>1.331580</td>\n",
       "      <td>5.0</td>\n",
       "    </tr>\n",
       "    <tr>\n",
       "      <td>max</td>\n",
       "      <td>-0.276302</td>\n",
       "      <td>-0.822933</td>\n",
       "      <td>1.894492</td>\n",
       "      <td>5.0</td>\n",
       "    </tr>\n",
       "  </tbody>\n",
       "</table>\n",
       "</div>"
      ],
      "text/plain": [
       "             Age  Annual Income (k$)  Spending Score (1-100)  label\n",
       "count  23.000000           23.000000               23.000000   23.0\n",
       "mean   -0.993969           -1.347348                1.064048    5.0\n",
       "std     0.380370            0.294811                0.515257    0.0\n",
       "min    -1.496335           -1.738999               -0.434801    5.0\n",
       "25%    -1.281035           -1.586321                0.885132    5.0\n",
       "50%    -1.137502           -1.395474                1.040418    5.0\n",
       "75%    -0.671019           -1.109204                1.331580    5.0\n",
       "max    -0.276302           -0.822933                1.894492    5.0"
      ]
     },
     "execution_count": 63,
     "metadata": {},
     "output_type": "execute_result"
    }
   ],
   "source": [
    "df_5.describe()"
   ]
  },
  {
   "cell_type": "markdown",
   "metadata": {},
   "source": [
    "## Kesimpulan Alternatif\n",
    "\n",
    "Dari hasil *mean* pada deskripsi keenam kluster, dapat dilihat bahwa pelanggan telah kita bagi menjadi 6 kluster, yaitu:\n",
    "1. Cluster 0 = Umur muda, pendapatan menengah, pengeluaran menengah\n",
    "2. Cluster 1 = Umur tua, pendapatan menengah, pengeluaran menengah\n",
    "3. Cluster 2 = Umur muda, pendapatan tinggi, pengeluaran tinggi\n",
    "4. Cluster 3 = Umur tua, pendapatan tinggi, pengeluaran rendah\n",
    "5. Cluster 4 = Umur tua, pendapatan rendah, pengeluaran rendah\n",
    "6. Cluster 5 = Umur muda, pendapatn rendah, pengeluaran tinggi"
   ]
  },
  {
   "cell_type": "code",
   "execution_count": null,
   "metadata": {},
   "outputs": [],
   "source": []
  }
 ],
 "metadata": {
  "kernelspec": {
   "display_name": "Python 3",
   "language": "python",
   "name": "python3"
  },
  "language_info": {
   "codemirror_mode": {
    "name": "ipython",
    "version": 3
   },
   "file_extension": ".py",
   "mimetype": "text/x-python",
   "name": "python",
   "nbconvert_exporter": "python",
   "pygments_lexer": "ipython3",
   "version": "3.7.4"
  }
 },
 "nbformat": 4,
 "nbformat_minor": 2
}
