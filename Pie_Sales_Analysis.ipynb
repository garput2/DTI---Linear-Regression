{
 "cells": [
  {
   "cell_type": "markdown",
   "metadata": {},
   "source": [
    "# Analisis Penjualan Pie dengan Multiple Linear Regression"
   ]
  },
  {
   "cell_type": "markdown",
   "metadata": {},
   "source": [
    "Pada kesempatan kali ini, akan dilakukan analisis penjualan *pie* dari sebuah toko. Data yang disediakan toko tersebut berupa jumlah penjualan, kuantifikasi harga, dan kuantifikasi iklan."
   ]
  },
  {
   "cell_type": "code",
   "execution_count": 35,
   "metadata": {},
   "outputs": [],
   "source": [
    "# pertama, kita import library yang dibutuhkan\n",
    "import pandas as pd\n",
    "import seaborn as sns\n",
    "import matplotlib.pyplot as plt\n",
    "import numpy as np\n",
    "from sklearn import linear_model\n",
    "from sklearn import metrics"
   ]
  },
  {
   "cell_type": "code",
   "execution_count": 18,
   "metadata": {},
   "outputs": [
    {
     "data": {
      "text/html": [
       "<div>\n",
       "<style scoped>\n",
       "    .dataframe tbody tr th:only-of-type {\n",
       "        vertical-align: middle;\n",
       "    }\n",
       "\n",
       "    .dataframe tbody tr th {\n",
       "        vertical-align: top;\n",
       "    }\n",
       "\n",
       "    .dataframe thead th {\n",
       "        text-align: right;\n",
       "    }\n",
       "</style>\n",
       "<table border=\"1\" class=\"dataframe\">\n",
       "  <thead>\n",
       "    <tr style=\"text-align: right;\">\n",
       "      <th></th>\n",
       "      <th>week</th>\n",
       "      <th>pie_sales</th>\n",
       "      <th>price</th>\n",
       "      <th>advertising</th>\n",
       "    </tr>\n",
       "  </thead>\n",
       "  <tbody>\n",
       "    <tr>\n",
       "      <td>0</td>\n",
       "      <td>1</td>\n",
       "      <td>350</td>\n",
       "      <td>5.5</td>\n",
       "      <td>3.3</td>\n",
       "    </tr>\n",
       "    <tr>\n",
       "      <td>1</td>\n",
       "      <td>2</td>\n",
       "      <td>460</td>\n",
       "      <td>7.5</td>\n",
       "      <td>3.3</td>\n",
       "    </tr>\n",
       "    <tr>\n",
       "      <td>2</td>\n",
       "      <td>3</td>\n",
       "      <td>350</td>\n",
       "      <td>8.0</td>\n",
       "      <td>3.0</td>\n",
       "    </tr>\n",
       "    <tr>\n",
       "      <td>3</td>\n",
       "      <td>4</td>\n",
       "      <td>430</td>\n",
       "      <td>8.0</td>\n",
       "      <td>4.5</td>\n",
       "    </tr>\n",
       "    <tr>\n",
       "      <td>4</td>\n",
       "      <td>5</td>\n",
       "      <td>350</td>\n",
       "      <td>6.8</td>\n",
       "      <td>3.0</td>\n",
       "    </tr>\n",
       "  </tbody>\n",
       "</table>\n",
       "</div>"
      ],
      "text/plain": [
       "   week  pie_sales  price  advertising\n",
       "0     1        350    5.5          3.3\n",
       "1     2        460    7.5          3.3\n",
       "2     3        350    8.0          3.0\n",
       "3     4        430    8.0          4.5\n",
       "4     5        350    6.8          3.0"
      ]
     },
     "execution_count": 18,
     "metadata": {},
     "output_type": "execute_result"
    }
   ],
   "source": [
    "# kita read data dari csv yang sudah disediakan\n",
    "# karena di csv antara tiap kolom dipisahkan dengan ;, kita tuliskan sep=';'\n",
    "df = pd.read_csv('pie-sales.csv', sep=';')\n",
    "df.head()"
   ]
  },
  {
   "cell_type": "markdown",
   "metadata": {},
   "source": [
    "Setelah melihat data secara sekilas, kita dapat berhipotesis bahwa variabel yang mempengaruhi penjualan (*pie_sales*) adalah harga (*price*) dan iklan (*advertising*). Pekan penjualan (*week*) tampaknya tidak terlalu berpengaruh. Untuk itu,kita *drop* kolom *week*, kemudian kita lakukan **pairplot** untuk melihat hubungan antar variabel."
   ]
  },
  {
   "cell_type": "code",
   "execution_count": 19,
   "metadata": {},
   "outputs": [
    {
     "data": {
      "text/plain": [
       "<seaborn.axisgrid.PairGrid at 0x18bba2e1f48>"
      ]
     },
     "execution_count": 19,
     "metadata": {},
     "output_type": "execute_result"
    },
    {
     "data": {
      "image/png": "[encoded data removed]",
      "text/plain": [
       "<Figure size 540x540 with 12 Axes>"
      ]
     },
     "metadata": {
      "needs_background": "light"
     },
     "output_type": "display_data"
    }
   ],
   "source": [
    "df.drop('week', axis=1, inplace= True)\n",
    "sns.pairplot(df)"
   ]
  },
  {
   "cell_type": "markdown",
   "metadata": {},
   "source": [
    "Dari hasil *pairplot* di atas, khususnya di bagian atas tengah dan atas kanan, merupakan plot yang menunjukkan korelasi antara *price* dengan *pie_sales* dan *advertising* dengan *pie_sales*. Lantas, apa yang akan terjadi jika kita buat *single linear regression* antara *pie_sales* dan *price* saja?"
   ]
  },
  {
   "cell_type": "markdown",
   "metadata": {},
   "source": [
    "## Hubungan Harga dan Penjualan"
   ]
  },
  {
   "cell_type": "code",
   "execution_count": 30,
   "metadata": {},
   "outputs": [
    {
     "data": {
      "image/png": "[encoded data removed]",
      "text/plain": [
       "<Figure size 432x288 with 1 Axes>"
      ]
     },
     "metadata": {
      "needs_background": "light"
     },
     "output_type": "display_data"
    }
   ],
   "source": [
    "Xprice = df[['price']]\n",
    "Y = df[['pie_sales']]\n",
    "reg_price = linear_model.LinearRegression()\n",
    "reg_price.fit(Xprice, Y)\n",
    "plt.scatter(Xprice, Y)\n",
    "plt.plot(Xprice, reg_price.predict(Xprice), color = \"black\")\n",
    "plt.xlabel('Harga')\n",
    "plt.ylabel('Penjualan')\n",
    "plt.show()"
   ]
  },
  {
   "cell_type": "markdown",
   "metadata": {},
   "source": [
    "Di atas, dapat dilihat hasil *single linear regression* untuk harga dan penjualan. Untuk mengetahui seberapa baiknya model buatan kita, mari kita cek *Root Mean Squared Error* dan *R-squared* dari model yang telah kita buat tersebut."
   ]
  },
  {
   "cell_type": "code",
   "execution_count": 31,
   "metadata": {},
   "outputs": [],
   "source": [
    "X_price_pred = reg_price.predict(Xprice)"
   ]
  },
  {
   "cell_type": "code",
   "execution_count": 37,
   "metadata": {},
   "outputs": [
    {
     "name": "stdout",
     "output_type": "stream",
     "text": [
      "RMSE:  55.01084456895846\n",
      "R^2: 0.19649111453531498\n"
     ]
    }
   ],
   "source": [
    "print('RMSE: ', np.sqrt(metrics.mean_squared_error(Y, X_price_pred)))\n",
    "print('R^2:',metrics.r2_score(Y, X_price_pred))"
   ]
  },
  {
   "cell_type": "markdown",
   "metadata": {},
   "source": [
    "Dari nilai RMSE, dapat dilihat bahwa akar dari MSE nilainya **55**. Baik atau buruknya angka ini merupakan hal yang relatif. Yang jelas, semakin mendekati 0 akan lebih baik. Untuk itu, perlu dibandingkan dengan model selanjutnya. Selain itu, dari *R-squared*, didapatkan nilainya **0.196**. Angka ini cukup buruk, karena artinya relasi linear antara kedua variabel sangat rendah. Sebagai perbandingan, mari kita buat single linear regression antara periklanan dan penjualan."
   ]
  },
  {
   "cell_type": "markdown",
   "metadata": {},
   "source": [
    "## Hubungan Periklanan dan Penjualan"
   ]
  },
  {
   "cell_type": "code",
   "execution_count": 38,
   "metadata": {},
   "outputs": [
    {
     "data": {
      "image/png": "[encoded data removed]",
      "text/plain": [
       "<Figure size 432x288 with 1 Axes>"
      ]
     },
     "metadata": {
      "needs_background": "light"
     },
     "output_type": "display_data"
    }
   ],
   "source": [
    "Xadv = df[['advertising']]\n",
    "Y = df[['pie_sales']]\n",
    "reg_adv = linear_model.LinearRegression()\n",
    "reg_adv.fit(Xadv, y)\n",
    "plt.scatter(Xadv, y)\n",
    "plt.plot(Xadv, reg_adv.predict(Xadv), color = \"black\")\n",
    "plt.show()"
   ]
  },
  {
   "cell_type": "markdown",
   "metadata": {},
   "source": [
    "Seperti pada model sebelumnya, mari kita cari RMSE dan R-squared."
   ]
  },
  {
   "cell_type": "code",
   "execution_count": 39,
   "metadata": {},
   "outputs": [],
   "source": [
    "X_adv_pred = reg_adv.predict(Xadv)"
   ]
  },
  {
   "cell_type": "code",
   "execution_count": 41,
   "metadata": {},
   "outputs": [
    {
     "name": "stdout",
     "output_type": "stream",
     "text": [
      "RMSE:  50.9961507340146\n",
      "R^2: 0.30949178347955386\n"
     ]
    }
   ],
   "source": [
    "print('RMSE: ', np.sqrt(metrics.mean_squared_error(Y, X_adv_pred)))\n",
    "print('R^2:',metrics.r2_score(Y, X_adv_pred))"
   ]
  },
  {
   "cell_type": "markdown",
   "metadata": {},
   "source": [
    "Nilai RMSE model kedua kita memiliki nilai yang lebih rendah dari model pertama, yaitu **50.99**. Sementara, *R-squared*nya juga lebih tinggi, yaitu **0.309**. Artinya, model ini sedikit lebih baik dibandingkan model pertama. Maka, dalam memprediksi hasil penjualan, variabel periklanan lebih berpengaruh dibandingkan variabel harga. Namun, kedua angka ini masih sangat jauh dari harapan kita. Untuk itu, kita coba melakukan regresi linear dengan 2 variabel dependen (harga dan iklan) dan kita periksa apakah hasilnya lebih baik daripada kedua model yang telah kita buat."
   ]
  },
  {
   "cell_type": "markdown",
   "metadata": {},
   "source": [
    "## Multiple Linear Regression"
   ]
  },
  {
   "cell_type": "code",
   "execution_count": 26,
   "metadata": {},
   "outputs": [
    {
     "data": {
      "text/html": [
       "<div>\n",
       "<style scoped>\n",
       "    .dataframe tbody tr th:only-of-type {\n",
       "        vertical-align: middle;\n",
       "    }\n",
       "\n",
       "    .dataframe tbody tr th {\n",
       "        vertical-align: top;\n",
       "    }\n",
       "\n",
       "    .dataframe thead th {\n",
       "        text-align: right;\n",
       "    }\n",
       "</style>\n",
       "<table border=\"1\" class=\"dataframe\">\n",
       "  <thead>\n",
       "    <tr style=\"text-align: right;\">\n",
       "      <th></th>\n",
       "      <th>price</th>\n",
       "      <th>advertising</th>\n",
       "    </tr>\n",
       "  </thead>\n",
       "  <tbody>\n",
       "    <tr>\n",
       "      <td>0</td>\n",
       "      <td>5.5</td>\n",
       "      <td>3.3</td>\n",
       "    </tr>\n",
       "    <tr>\n",
       "      <td>1</td>\n",
       "      <td>7.5</td>\n",
       "      <td>3.3</td>\n",
       "    </tr>\n",
       "    <tr>\n",
       "      <td>2</td>\n",
       "      <td>8.0</td>\n",
       "      <td>3.0</td>\n",
       "    </tr>\n",
       "    <tr>\n",
       "      <td>3</td>\n",
       "      <td>8.0</td>\n",
       "      <td>4.5</td>\n",
       "    </tr>\n",
       "    <tr>\n",
       "      <td>4</td>\n",
       "      <td>6.8</td>\n",
       "      <td>3.0</td>\n",
       "    </tr>\n",
       "  </tbody>\n",
       "</table>\n",
       "</div>"
      ],
      "text/plain": [
       "   price  advertising\n",
       "0    5.5          3.3\n",
       "1    7.5          3.3\n",
       "2    8.0          3.0\n",
       "3    8.0          4.5\n",
       "4    6.8          3.0"
      ]
     },
     "execution_count": 26,
     "metadata": {},
     "output_type": "execute_result"
    }
   ],
   "source": [
    "X = df[['price', 'advertising']]\n",
    "X.head()"
   ]
  },
  {
   "cell_type": "code",
   "execution_count": 42,
   "metadata": {},
   "outputs": [
    {
     "data": {
      "text/plain": [
       "LinearRegression(copy_X=True, fit_intercept=True, n_jobs=None, normalize=False)"
      ]
     },
     "execution_count": 42,
     "metadata": {},
     "output_type": "execute_result"
    }
   ],
   "source": [
    "reg = linear_model.LinearRegression()\n",
    "reg.fit(X, Y)"
   ]
  },
  {
   "cell_type": "markdown",
   "metadata": {},
   "source": [
    "Untuk *multiple linear regression*, tidak disarankan menggunakan visualisasi karena agak sukar untuk membuat dan membaca visualisasi dalam bentuk 3 dimensi. Karena itu, pada model kali ini tidak ditampilkan hasil visualisasinya. Namun, kita tetap bisa mengecek hasil RMSE dan *R-squared*nya."
   ]
  },
  {
   "cell_type": "code",
   "execution_count": 43,
   "metadata": {},
   "outputs": [
    {
     "name": "stdout",
     "output_type": "stream",
     "text": [
      "RMSE:  42.45256683818261\n",
      "R^2: 0.5214779360292288\n"
     ]
    }
   ],
   "source": [
    "X_pred = reg.predict(X)\n",
    "print('RMSE: ', np.sqrt(metrics.mean_squared_error(Y, X_pred)))\n",
    "print('R^2:',metrics.r2_score(Y, X_pred))"
   ]
  },
  {
   "cell_type": "markdown",
   "metadata": {},
   "source": [
    "Dari hasil RMSE dan *R-squared*, kita dapat melihat hasil yang jauh lebih baik. RMSE turun sekitar 8 poin menuju **42.45**, sementara *R-squared* sudah melebihi 0.5, yaitu **0.52**. Artinya, menggunakan kedua variabel ini untuk memprediksi penjualan jauh lebih baik dibandingkan hanya menggunakan 1 variabel saja. \n",
    "\n",
    "Sekarang setelah model terbaik kita sudah berhasil dibuat, kita dapat menyimpannya untuk menentukan strategi toko *pie* ini untuk senantiasa meningkatkan penjualan. Namun, bagaimana sebenarnya bentuk dari model kita?"
   ]
  },
  {
   "cell_type": "code",
   "execution_count": 54,
   "metadata": {},
   "outputs": [
    {
     "name": "stdout",
     "output_type": "stream",
     "text": [
      "Intercept: \n",
      " [306.52619328]\n",
      "Price Coefficient: \n",
      " -24.97508951782694\n",
      "Advertising Coefficient: \n",
      " 74.13095748874098\n"
     ]
    }
   ],
   "source": [
    "koef = pd.DataFrame(reg.coef_)\n",
    "\n",
    "print('Intercept: \\n', reg.intercept_)\n",
    "print('Price Coefficient: \\n', koef[0][0])\n",
    "print('Advertising Coefficient: \\n', koef[1][0])"
   ]
  },
  {
   "cell_type": "markdown",
   "metadata": {},
   "source": [
    "Model regresi linear dua variabel yang telah kita buat dapat dituliskan dengan persamaan:\n",
    "\n",
    "<div align=\"center\">\n",
    "${y} = a + bX_{1} + cX_{2}$\n",
    "</div>\n",
    "\n",
    "y = a + bx1 + cx2 dengan y adalah penjualan, **a** adalah *intercept*, **b** adalah koefisien harga, **X1** adalah harga, **c** adalah koefisien iklan, dan **X2** adalah iklan. Artinya, dengan nilai yang kita dapatkan di atas, model kita dapat ditulis dengan persamaan:\n",
    "\n",
    "<div align=\"center\">\n",
    "${y} = 306.526 - 24.975X_{1} + 74.131X_{2}$\n",
    "</div>\n",
    "\n",
    "Dengan persamaan tersebut, kita dapat menghitung secara manual perkiraan penjualan. Namun tentu saja, untuk mendapatkan hasil yang lebih presisi dapat menggunakan **reg.predict** dengan nilai harga dan iklan yang ingin diprediksi berapa kira-kira penjualannya."
   ]
  },
  {
   "cell_type": "markdown",
   "metadata": {},
   "source": [
    "## Menggunakan Statsmodels"
   ]
  },
  {
   "cell_type": "markdown",
   "metadata": {},
   "source": [
    "**Statsmodels** merupakan *library* yang menyediakan metode regresi linear selain scikit-learn. Pada *library* ini, terdapat fungsi **OLS** yang akan mengaplikasikan regresi linear model *Ordinary Least Squares* pada dataset kita. Yang menarik dari *Statsmodels* adalah memiliki fungsi **summary** yang dapat langsung menampilkan data-data yang kita butuhkan untuk menganalisis model kita."
   ]
  },
  {
   "cell_type": "code",
   "execution_count": 56,
   "metadata": {},
   "outputs": [
    {
     "name": "stdout",
     "output_type": "stream",
     "text": [
      "                            OLS Regression Results                            \n",
      "==============================================================================\n",
      "Dep. Variable:              pie_sales   R-squared:                       0.521\n",
      "Model:                            OLS   Adj. R-squared:                  0.442\n",
      "Method:                 Least Squares   F-statistic:                     6.539\n",
      "Date:                Sat, 24 Oct 2020   Prob (F-statistic):             0.0120\n",
      "Time:                        10:05:19   Log-Likelihood:                -77.510\n",
      "No. Observations:                  15   AIC:                             161.0\n",
      "Df Residuals:                      12   BIC:                             163.1\n",
      "Df Model:                           2                                         \n",
      "Covariance Type:            nonrobust                                         \n",
      "===============================================================================\n",
      "                  coef    std err          t      P>|t|      [0.025      0.975]\n",
      "-------------------------------------------------------------------------------\n",
      "const         306.5262    114.254      2.683      0.020      57.588     555.464\n",
      "price         -24.9751     10.832     -2.306      0.040     -48.576      -1.374\n",
      "advertising    74.1310     25.967      2.855      0.014      17.553     130.709\n",
      "==============================================================================\n",
      "Omnibus:                        1.505   Durbin-Watson:                   1.683\n",
      "Prob(Omnibus):                  0.471   Jarque-Bera (JB):                0.937\n",
      "Skew:                           0.595   Prob(JB):                        0.626\n",
      "Kurtosis:                       2.709   Cond. No.                         72.2\n",
      "==============================================================================\n",
      "\n",
      "Warnings:\n",
      "[1] Standard Errors assume that the covariance matrix of the errors is correctly specified.\n"
     ]
    },
    {
     "name": "stderr",
     "output_type": "stream",
     "text": [
      "C:\\Users\\nitro\\Anaconda3\\lib\\site-packages\\numpy\\core\\fromnumeric.py:2389: FutureWarning: Method .ptp is deprecated and will be removed in a future version. Use numpy.ptp instead.\n",
      "  return ptp(axis=axis, out=out, **kwargs)\n",
      "C:\\Users\\nitro\\Anaconda3\\lib\\site-packages\\scipy\\stats\\stats.py:1450: UserWarning: kurtosistest only valid for n>=20 ... continuing anyway, n=15\n",
      "  \"anyway, n=%i\" % int(n))\n"
     ]
    }
   ],
   "source": [
    "import statsmodels.api as sm\n",
    "\n",
    "X = sm.add_constant(X)\n",
    "\n",
    "model = sm.OLS(Y, X).fit()\n",
    "predictions = model.predict(X) \n",
    "\n",
    "print_model = model.summary()\n",
    "print(print_model)"
   ]
  },
  {
   "cell_type": "markdown",
   "metadata": {},
   "source": [
    "### R-squared"
   ]
  },
  {
   "cell_type": "markdown",
   "metadata": {},
   "source": [
    "Seperti yang ditampilkan oleh tabel di atas, *R-squared* dari model OLS kita bernilai 0.521. Nilai ini serupa dengan model sebelumnya yang kita buat dengan *library* scikit-learn."
   ]
  },
  {
   "cell_type": "markdown",
   "metadata": {},
   "source": [
    "### Durbin-Watson"
   ]
  },
  {
   "cell_type": "markdown",
   "metadata": {},
   "source": [
    "Durbin-Watson merupakan salah satu metode untuk menentukan apakah terjadi autokorelasi atau tidak. Jika terjadi autokorelasi, maka asumsi pada regresi linear menjadi tidak valid. dari URL [1], dapat ditampilkan tabel sebagai berikut."
   ]
  },
  {
   "cell_type": "markdown",
   "metadata": {},
   "source": [
    "![image](durbin-watson-table.webp \"Durbin-Watson Table\")"
   ]
  },
  {
   "cell_type": "markdown",
   "metadata": {},
   "source": [
    "Karena data kita berjumlah 15 baris, maka n = 15. Kemudian, karena terdapat dua variabel independen, k = 2. dari tabel Durbin-Watson, didapatkan dL = **0.95** dan dU = **1.54**. Sementara nilai Durbin-Watson (D) dari tabel *summary* kita adalah 1.683. Untuk memastikan tidak terjadi autokorelasi, D harus berada di antara dL dan (4-dU). Karena 4 - dU = 2.46, dan 0.95 < D < 2.46, maka tidak terjadi autokorelasi dan asumsi regresi linear menjadi valid."
   ]
  },
  {
   "cell_type": "markdown",
   "metadata": {},
   "source": [
    "### F-test"
   ]
  },
  {
   "cell_type": "markdown",
   "metadata": {},
   "source": [
    "F-test merupakan tes yang digunakan untuk mengecek signifikansi variabel independen kita terhadap variabel dependen. Sekiranya *p-value* dari model kita di bawah 0.05, artinya variabel yang kita pilih cukup signifikan untuk dijadikan variabel dependen dalam regresi linear."
   ]
  },
  {
   "cell_type": "code",
   "execution_count": 63,
   "metadata": {},
   "outputs": [
    {
     "name": "stdout",
     "output_type": "stream",
     "text": [
      "F-stat: 6.538606789020468\n",
      "p-value: 0.012006372233186378\n"
     ]
    }
   ],
   "source": [
    "print('F-stat:', model.fvalue)\n",
    "print('p-value:', model.f_pvalue)"
   ]
  },
  {
   "cell_type": "markdown",
   "metadata": {},
   "source": [
    "Berdasarkan nilai p-value di atas, dapat disimpulkan bahwa *price* dan *advertising* cocok digunakan untuk perhitungan regresi linear."
   ]
  },
  {
   "cell_type": "markdown",
   "metadata": {},
   "source": [
    "### t-Test"
   ]
  },
  {
   "cell_type": "markdown",
   "metadata": {},
   "source": [
    "t-Test merupakan tes yang digunakan untuk menampilkan korelasi antara dua variabel. Serupa dengan F-test, Sekiranya *p-value* dari model kita di bawah 0.05, artinya variabel yang kita pilih cukup signifikan untuk dijadikan variabel dependen dalam regresi linear."
   ]
  },
  {
   "cell_type": "code",
   "execution_count": 64,
   "metadata": {},
   "outputs": [
    {
     "name": "stdout",
     "output_type": "stream",
     "text": [
      "const          0.019932\n",
      "price          0.039788\n",
      "advertising    0.014494\n",
      "dtype: float64\n"
     ]
    }
   ],
   "source": [
    "print(model.pvalues)"
   ]
  },
  {
   "cell_type": "markdown",
   "metadata": {},
   "source": [
    "Karena *price* dan *advertising* nilai p-nya di bawah 0.05, artinya kedua variabel tersebut cocok digunakan untuk perhitungan regresi linear."
   ]
  },
  {
   "cell_type": "markdown",
   "metadata": {},
   "source": [
    "## Kesimpulan"
   ]
  },
  {
   "cell_type": "markdown",
   "metadata": {},
   "source": [
    "Dari hasil regresi linear di atas, dapat disimpulkan bahwa penggunaan *multiple linear regression* dengan variabel *price* dan *advertising* lebih efektif digunakan dibandingkan *single linear regression* dengan salah satu variabel saja. Selain itu, dari hasil validasi dengan t-Test dan F-test, dapat dibuktikan bahwa kedua variabel tersebut memang layak digunakan untuk perhitungan regresi linear. Sementara degnan Durbin_Watson, dapat dibuktikan bahwa tidak terjadi autokorelasi sehingga regresi linear dapat digunakan."
   ]
  },
  {
   "cell_type": "markdown",
   "metadata": {},
   "source": [
    "### Daftar Pustaka"
   ]
  },
  {
   "cell_type": "markdown",
   "metadata": {},
   "source": [
    "1. https://www.statisticshowto.com/wp-content/uploads/2016/06/durbin-watson-table.jpg\n",
    "2. https://www.semanticscholar.org/paper/How-do-I-interpret-a-p-value-O'Brien-Osmond/e9f7b8583cabc24e73455f61b9288306c0e87e57\n",
    "3. Telkom DTI 2020 - Modul 4: Regression - Dr. Nurvita Trianasari, S.Si, M.Stat."
   ]
  }
 ],
 "metadata": {
  "kernelspec": {
   "display_name": "Python 3",
   "language": "python",
   "name": "python3"
  },
  "language_info": {
   "codemirror_mode": {
    "name": "ipython",
    "version": 3
   },
   "file_extension": ".py",
   "mimetype": "text/x-python",
   "name": "python",
   "nbconvert_exporter": "python",
   "pygments_lexer": "ipython3",
   "version": "3.7.4"
  }
 },
 "nbformat": 4,
 "nbformat_minor": 2
}
